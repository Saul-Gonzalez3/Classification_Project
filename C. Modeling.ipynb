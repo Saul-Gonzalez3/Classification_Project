{
 "cells": [
  {
   "cell_type": "markdown",
   "id": "fd0482e1-3dfe-48bb-9074-9b4dfc34c636",
   "metadata": {},
   "source": [
    "<h1>Classification Modeling"
   ]
  },
  {
   "cell_type": "code",
   "execution_count": 1,
   "id": "88a119db-f7a0-4e76-909f-eae6276aa40d",
   "metadata": {
    "tags": []
   },
   "outputs": [],
   "source": [
    "# list of imports I'll need for exploring the dataframe 'telco'\n",
    "\n",
    "import pandas as pd\n",
    "import numpy as np\n",
    "import matplotlib.pyplot as plt\n",
    "import os\n",
    "import seaborn as sns\n",
    "from scipy import stats\n",
    "\n",
    "# import splitting and imputing functions\n",
    "from sklearn.model_selection import train_test_split\n",
    "from sklearn.impute import SimpleImputer\n",
    "\n",
    "# turn off pink boxes for demo\n",
    "import warnings\n",
    "warnings.filterwarnings(\"ignore\")\n",
    "\n",
    "# import our own acquire module\n",
    "import env\n",
    "import os\n",
    "import pandas as pd\n",
    "directory = os.getcwd()\n",
    "import acquire as ac\n",
    "import wrangle as wr\n",
    "\n",
    "# imports for modeling:\n",
    "# import Logistic regression\n",
    "from sklearn.linear_model import LogisticRegression\n",
    "# import K Nearest neighbors:\n",
    "from sklearn.neighbors import KNeighborsClassifier\n",
    "# import Decision Trees:\n",
    "from sklearn.tree import DecisionTreeClassifier, export_text, plot_tree\n",
    "# import Random Forest:\n",
    "from sklearn.ensemble import RandomForestClassifier\n",
    "\n",
    "from sklearn.metrics import classification_report, confusion_matrix\n",
    "\n",
    "# interpreting our models:\n",
    "import matplotlib.pyplot as plt\n",
    "from sklearn.metrics import accuracy_score, confusion_matrix, classification_report"
   ]
  },
  {
   "cell_type": "markdown",
   "id": "2ce575e4-9957-4362-9ca2-b7ae1a3aaf8a",
   "metadata": {},
   "source": [
    "<h2>Acquire the data"
   ]
  },
  {
   "cell_type": "code",
   "execution_count": 2,
   "id": "22241dc1-cd53-4804-a04a-f3fdd0218153",
   "metadata": {
    "tags": []
   },
   "outputs": [],
   "source": [
    "SQL_query = \"\"\"\n",
    "        SELECT * FROM customers\n",
    "        JOIN contract_types USING (contract_type_id)\n",
    "        JOIN internet_service_types USING (internet_service_type_id)\n",
    "        JOIN payment_types USING (payment_type_id)\n",
    "        \"\"\""
   ]
  },
  {
   "cell_type": "code",
   "execution_count": 3,
   "id": "3d086625-2f8d-4779-ab21-d3666f30fa16",
   "metadata": {
    "tags": []
   },
   "outputs": [
    {
     "data": {
      "text/html": [
       "<div>\n",
       "<style scoped>\n",
       "    .dataframe tbody tr th:only-of-type {\n",
       "        vertical-align: middle;\n",
       "    }\n",
       "\n",
       "    .dataframe tbody tr th {\n",
       "        vertical-align: top;\n",
       "    }\n",
       "\n",
       "    .dataframe thead th {\n",
       "        text-align: right;\n",
       "    }\n",
       "</style>\n",
       "<table border=\"1\" class=\"dataframe\">\n",
       "  <thead>\n",
       "    <tr style=\"text-align: right;\">\n",
       "      <th></th>\n",
       "      <th>payment_type_id</th>\n",
       "      <th>internet_service_type_id</th>\n",
       "      <th>contract_type_id</th>\n",
       "      <th>customer_id</th>\n",
       "      <th>gender</th>\n",
       "      <th>senior_citizen</th>\n",
       "      <th>partner</th>\n",
       "      <th>dependents</th>\n",
       "      <th>tenure</th>\n",
       "      <th>phone_service</th>\n",
       "      <th>...</th>\n",
       "      <th>tech_support</th>\n",
       "      <th>streaming_tv</th>\n",
       "      <th>streaming_movies</th>\n",
       "      <th>paperless_billing</th>\n",
       "      <th>monthly_charges</th>\n",
       "      <th>total_charges</th>\n",
       "      <th>churn</th>\n",
       "      <th>contract_type</th>\n",
       "      <th>internet_service_type</th>\n",
       "      <th>payment_type</th>\n",
       "    </tr>\n",
       "  </thead>\n",
       "  <tbody>\n",
       "    <tr>\n",
       "      <th>0</th>\n",
       "      <td>2</td>\n",
       "      <td>1</td>\n",
       "      <td>2</td>\n",
       "      <td>0002-ORFBO</td>\n",
       "      <td>Female</td>\n",
       "      <td>0</td>\n",
       "      <td>Yes</td>\n",
       "      <td>Yes</td>\n",
       "      <td>9</td>\n",
       "      <td>Yes</td>\n",
       "      <td>...</td>\n",
       "      <td>Yes</td>\n",
       "      <td>Yes</td>\n",
       "      <td>No</td>\n",
       "      <td>Yes</td>\n",
       "      <td>65.6</td>\n",
       "      <td>593.3</td>\n",
       "      <td>No</td>\n",
       "      <td>One year</td>\n",
       "      <td>DSL</td>\n",
       "      <td>Mailed check</td>\n",
       "    </tr>\n",
       "    <tr>\n",
       "      <th>1</th>\n",
       "      <td>2</td>\n",
       "      <td>1</td>\n",
       "      <td>1</td>\n",
       "      <td>0003-MKNFE</td>\n",
       "      <td>Male</td>\n",
       "      <td>0</td>\n",
       "      <td>No</td>\n",
       "      <td>No</td>\n",
       "      <td>9</td>\n",
       "      <td>Yes</td>\n",
       "      <td>...</td>\n",
       "      <td>No</td>\n",
       "      <td>No</td>\n",
       "      <td>Yes</td>\n",
       "      <td>No</td>\n",
       "      <td>59.9</td>\n",
       "      <td>542.4</td>\n",
       "      <td>No</td>\n",
       "      <td>Month-to-month</td>\n",
       "      <td>DSL</td>\n",
       "      <td>Mailed check</td>\n",
       "    </tr>\n",
       "    <tr>\n",
       "      <th>2</th>\n",
       "      <td>1</td>\n",
       "      <td>2</td>\n",
       "      <td>1</td>\n",
       "      <td>0004-TLHLJ</td>\n",
       "      <td>Male</td>\n",
       "      <td>0</td>\n",
       "      <td>No</td>\n",
       "      <td>No</td>\n",
       "      <td>4</td>\n",
       "      <td>Yes</td>\n",
       "      <td>...</td>\n",
       "      <td>No</td>\n",
       "      <td>No</td>\n",
       "      <td>No</td>\n",
       "      <td>Yes</td>\n",
       "      <td>73.9</td>\n",
       "      <td>280.85</td>\n",
       "      <td>Yes</td>\n",
       "      <td>Month-to-month</td>\n",
       "      <td>Fiber optic</td>\n",
       "      <td>Electronic check</td>\n",
       "    </tr>\n",
       "    <tr>\n",
       "      <th>3</th>\n",
       "      <td>1</td>\n",
       "      <td>2</td>\n",
       "      <td>1</td>\n",
       "      <td>0011-IGKFF</td>\n",
       "      <td>Male</td>\n",
       "      <td>1</td>\n",
       "      <td>Yes</td>\n",
       "      <td>No</td>\n",
       "      <td>13</td>\n",
       "      <td>Yes</td>\n",
       "      <td>...</td>\n",
       "      <td>No</td>\n",
       "      <td>Yes</td>\n",
       "      <td>Yes</td>\n",
       "      <td>Yes</td>\n",
       "      <td>98.0</td>\n",
       "      <td>1237.85</td>\n",
       "      <td>Yes</td>\n",
       "      <td>Month-to-month</td>\n",
       "      <td>Fiber optic</td>\n",
       "      <td>Electronic check</td>\n",
       "    </tr>\n",
       "    <tr>\n",
       "      <th>4</th>\n",
       "      <td>2</td>\n",
       "      <td>2</td>\n",
       "      <td>1</td>\n",
       "      <td>0013-EXCHZ</td>\n",
       "      <td>Female</td>\n",
       "      <td>1</td>\n",
       "      <td>Yes</td>\n",
       "      <td>No</td>\n",
       "      <td>3</td>\n",
       "      <td>Yes</td>\n",
       "      <td>...</td>\n",
       "      <td>Yes</td>\n",
       "      <td>Yes</td>\n",
       "      <td>No</td>\n",
       "      <td>Yes</td>\n",
       "      <td>83.9</td>\n",
       "      <td>267.4</td>\n",
       "      <td>Yes</td>\n",
       "      <td>Month-to-month</td>\n",
       "      <td>Fiber optic</td>\n",
       "      <td>Mailed check</td>\n",
       "    </tr>\n",
       "  </tbody>\n",
       "</table>\n",
       "<p>5 rows × 24 columns</p>\n",
       "</div>"
      ],
      "text/plain": [
       "   payment_type_id  internet_service_type_id  contract_type_id customer_id  \\\n",
       "0                2                         1                 2  0002-ORFBO   \n",
       "1                2                         1                 1  0003-MKNFE   \n",
       "2                1                         2                 1  0004-TLHLJ   \n",
       "3                1                         2                 1  0011-IGKFF   \n",
       "4                2                         2                 1  0013-EXCHZ   \n",
       "\n",
       "   gender  senior_citizen partner dependents  tenure phone_service  ...  \\\n",
       "0  Female               0     Yes        Yes       9           Yes  ...   \n",
       "1    Male               0      No         No       9           Yes  ...   \n",
       "2    Male               0      No         No       4           Yes  ...   \n",
       "3    Male               1     Yes         No      13           Yes  ...   \n",
       "4  Female               1     Yes         No       3           Yes  ...   \n",
       "\n",
       "  tech_support streaming_tv streaming_movies paperless_billing  \\\n",
       "0          Yes          Yes               No               Yes   \n",
       "1           No           No              Yes                No   \n",
       "2           No           No               No               Yes   \n",
       "3           No          Yes              Yes               Yes   \n",
       "4          Yes          Yes               No               Yes   \n",
       "\n",
       "  monthly_charges total_charges churn   contract_type  internet_service_type  \\\n",
       "0            65.6         593.3    No        One year                    DSL   \n",
       "1            59.9         542.4    No  Month-to-month                    DSL   \n",
       "2            73.9        280.85   Yes  Month-to-month            Fiber optic   \n",
       "3            98.0       1237.85   Yes  Month-to-month            Fiber optic   \n",
       "4            83.9         267.4   Yes  Month-to-month            Fiber optic   \n",
       "\n",
       "       payment_type  \n",
       "0      Mailed check  \n",
       "1      Mailed check  \n",
       "2  Electronic check  \n",
       "3  Electronic check  \n",
       "4      Mailed check  \n",
       "\n",
       "[5 rows x 24 columns]"
      ]
     },
     "execution_count": 3,
     "metadata": {},
     "output_type": "execute_result"
    }
   ],
   "source": [
    "df = ac.get_telco_data(SQL_query, directory, filename = 'telco.csv')\n",
    "df.head() "
   ]
  },
  {
   "cell_type": "markdown",
   "id": "e631768f-708b-493a-bc0d-c2916402a38d",
   "metadata": {},
   "source": [
    "<h2>Split the Data"
   ]
  },
  {
   "cell_type": "code",
   "execution_count": 4,
   "id": "d21f3471-3c30-47ea-ba6b-7ccee95bcfce",
   "metadata": {
    "tags": []
   },
   "outputs": [],
   "source": [
    "#Prep and Split the data\n",
    "train, validate, test = wr.prep_telco_data(df)"
   ]
  },
  {
   "cell_type": "markdown",
   "id": "cda7cdcf-8a5c-4423-8884-983160186871",
   "metadata": {},
   "source": [
    "<h2>Scale the Data"
   ]
  },
  {
   "cell_type": "code",
   "execution_count": 5,
   "id": "977d545a-6f45-40f1-bb9d-712f91e786ae",
   "metadata": {
    "tags": []
   },
   "outputs": [
    {
     "name": "stdout",
     "output_type": "stream",
     "text": [
      "<class 'pandas.core.frame.DataFrame'>\n",
      "Int64Index: 3937 entries, 5919 to 4192\n",
      "Data columns (total 36 columns):\n",
      " #   Column                                 Non-Null Count  Dtype  \n",
      "---  ------                                 --------------  -----  \n",
      " 0   senior_citizen                         3937 non-null   int64  \n",
      " 1   gender_encoded                         3937 non-null   int64  \n",
      " 2   partner_encoded                        3937 non-null   int64  \n",
      " 3   dependents_encoded                     3937 non-null   int64  \n",
      " 4   phone_service_encoded                  3937 non-null   int64  \n",
      " 5   paperless_billing_encoded              3937 non-null   int64  \n",
      " 6   churn_encoded                          3937 non-null   int64  \n",
      " 7   gender_Male                            3937 non-null   uint8  \n",
      " 8   partner_Yes                            3937 non-null   uint8  \n",
      " 9   dependents_Yes                         3937 non-null   uint8  \n",
      " 10  phone_service_Yes                      3937 non-null   uint8  \n",
      " 11  paperless_billing_Yes                  3937 non-null   uint8  \n",
      " 12  multiple_lines_No phone service        3937 non-null   uint8  \n",
      " 13  multiple_lines_Yes                     3937 non-null   uint8  \n",
      " 14  online_security_No internet service    3937 non-null   uint8  \n",
      " 15  online_security_Yes                    3937 non-null   uint8  \n",
      " 16  online_backup_No internet service      3937 non-null   uint8  \n",
      " 17  online_backup_Yes                      3937 non-null   uint8  \n",
      " 18  device_protection_No internet service  3937 non-null   uint8  \n",
      " 19  device_protection_Yes                  3937 non-null   uint8  \n",
      " 20  tech_support_No internet service       3937 non-null   uint8  \n",
      " 21  tech_support_Yes                       3937 non-null   uint8  \n",
      " 22  streaming_tv_No internet service       3937 non-null   uint8  \n",
      " 23  streaming_tv_Yes                       3937 non-null   uint8  \n",
      " 24  streaming_movies_No internet service   3937 non-null   uint8  \n",
      " 25  streaming_movies_Yes                   3937 non-null   uint8  \n",
      " 26  contract_type_One year                 3937 non-null   uint8  \n",
      " 27  contract_type_Two year                 3937 non-null   uint8  \n",
      " 28  internet_service_type_Fiber optic      3937 non-null   uint8  \n",
      " 29  internet_service_type_None             3937 non-null   uint8  \n",
      " 30  payment_type_Credit card (automatic)   3937 non-null   uint8  \n",
      " 31  payment_type_Electronic check          3937 non-null   uint8  \n",
      " 32  payment_type_Mailed check              3937 non-null   uint8  \n",
      " 33  monthly_charges_scaled                 3937 non-null   float64\n",
      " 34  total_charges_scaled                   3937 non-null   float64\n",
      " 35  tenure_scaled                          3937 non-null   float64\n",
      "dtypes: float64(3), int64(7), uint8(26)\n",
      "memory usage: 438.3 KB\n"
     ]
    }
   ],
   "source": [
    "from sklearn.preprocessing import MinMaxScaler\n",
    "\n",
    "continuous_features = ['monthly_charges', 'total_charges', 'tenure']\n",
    "scaler = MinMaxScaler()\n",
    "scaler.fit(train[continuous_features])\n",
    "\n",
    "train[['monthly_charges_scaled', 'total_charges_scaled', 'tenure_scaled']] = scaler.transform(train[continuous_features])\n",
    "train = train.drop(columns = ['monthly_charges', 'total_charges', 'tenure'])\n",
    "train.info()"
   ]
  },
  {
   "cell_type": "code",
   "execution_count": 6,
   "id": "9a5cbd6e-d351-466e-8737-a404b708027b",
   "metadata": {
    "tags": []
   },
   "outputs": [
    {
     "name": "stdout",
     "output_type": "stream",
     "text": [
      "<class 'pandas.core.frame.DataFrame'>\n",
      "Int64Index: 1688 entries, 816 to 3718\n",
      "Data columns (total 36 columns):\n",
      " #   Column                                 Non-Null Count  Dtype  \n",
      "---  ------                                 --------------  -----  \n",
      " 0   senior_citizen                         1688 non-null   int64  \n",
      " 1   gender_encoded                         1688 non-null   int64  \n",
      " 2   partner_encoded                        1688 non-null   int64  \n",
      " 3   dependents_encoded                     1688 non-null   int64  \n",
      " 4   phone_service_encoded                  1688 non-null   int64  \n",
      " 5   paperless_billing_encoded              1688 non-null   int64  \n",
      " 6   churn_encoded                          1688 non-null   int64  \n",
      " 7   gender_Male                            1688 non-null   uint8  \n",
      " 8   partner_Yes                            1688 non-null   uint8  \n",
      " 9   dependents_Yes                         1688 non-null   uint8  \n",
      " 10  phone_service_Yes                      1688 non-null   uint8  \n",
      " 11  paperless_billing_Yes                  1688 non-null   uint8  \n",
      " 12  multiple_lines_No phone service        1688 non-null   uint8  \n",
      " 13  multiple_lines_Yes                     1688 non-null   uint8  \n",
      " 14  online_security_No internet service    1688 non-null   uint8  \n",
      " 15  online_security_Yes                    1688 non-null   uint8  \n",
      " 16  online_backup_No internet service      1688 non-null   uint8  \n",
      " 17  online_backup_Yes                      1688 non-null   uint8  \n",
      " 18  device_protection_No internet service  1688 non-null   uint8  \n",
      " 19  device_protection_Yes                  1688 non-null   uint8  \n",
      " 20  tech_support_No internet service       1688 non-null   uint8  \n",
      " 21  tech_support_Yes                       1688 non-null   uint8  \n",
      " 22  streaming_tv_No internet service       1688 non-null   uint8  \n",
      " 23  streaming_tv_Yes                       1688 non-null   uint8  \n",
      " 24  streaming_movies_No internet service   1688 non-null   uint8  \n",
      " 25  streaming_movies_Yes                   1688 non-null   uint8  \n",
      " 26  contract_type_One year                 1688 non-null   uint8  \n",
      " 27  contract_type_Two year                 1688 non-null   uint8  \n",
      " 28  internet_service_type_Fiber optic      1688 non-null   uint8  \n",
      " 29  internet_service_type_None             1688 non-null   uint8  \n",
      " 30  payment_type_Credit card (automatic)   1688 non-null   uint8  \n",
      " 31  payment_type_Electronic check          1688 non-null   uint8  \n",
      " 32  payment_type_Mailed check              1688 non-null   uint8  \n",
      " 33  monthly_charges_scaled                 1688 non-null   float64\n",
      " 34  total_charges_scaled                   1688 non-null   float64\n",
      " 35  tenure_scaled                          1688 non-null   float64\n",
      "dtypes: float64(3), int64(7), uint8(26)\n",
      "memory usage: 187.9 KB\n"
     ]
    }
   ],
   "source": [
    "from sklearn.preprocessing import MinMaxScaler\n",
    "\n",
    "continuous_features = ['monthly_charges', 'total_charges', 'tenure']\n",
    "scaler = MinMaxScaler()\n",
    "scaler.fit(validate[continuous_features])\n",
    "\n",
    "validate[['monthly_charges_scaled', 'total_charges_scaled', 'tenure_scaled']] = scaler.transform(validate[continuous_features])\n",
    "validate = validate.drop(columns=['monthly_charges', 'total_charges', 'tenure'])\n",
    "validate.info()"
   ]
  },
  {
   "cell_type": "code",
   "execution_count": 7,
   "id": "376c658c-bd42-40cc-a35f-b71da21a9e71",
   "metadata": {
    "tags": []
   },
   "outputs": [
    {
     "name": "stdout",
     "output_type": "stream",
     "text": [
      "<class 'pandas.core.frame.DataFrame'>\n",
      "Int64Index: 1407 entries, 3311 to 3690\n",
      "Data columns (total 36 columns):\n",
      " #   Column                                 Non-Null Count  Dtype  \n",
      "---  ------                                 --------------  -----  \n",
      " 0   senior_citizen                         1407 non-null   int64  \n",
      " 1   gender_encoded                         1407 non-null   int64  \n",
      " 2   partner_encoded                        1407 non-null   int64  \n",
      " 3   dependents_encoded                     1407 non-null   int64  \n",
      " 4   phone_service_encoded                  1407 non-null   int64  \n",
      " 5   paperless_billing_encoded              1407 non-null   int64  \n",
      " 6   churn_encoded                          1407 non-null   int64  \n",
      " 7   gender_Male                            1407 non-null   uint8  \n",
      " 8   partner_Yes                            1407 non-null   uint8  \n",
      " 9   dependents_Yes                         1407 non-null   uint8  \n",
      " 10  phone_service_Yes                      1407 non-null   uint8  \n",
      " 11  paperless_billing_Yes                  1407 non-null   uint8  \n",
      " 12  multiple_lines_No phone service        1407 non-null   uint8  \n",
      " 13  multiple_lines_Yes                     1407 non-null   uint8  \n",
      " 14  online_security_No internet service    1407 non-null   uint8  \n",
      " 15  online_security_Yes                    1407 non-null   uint8  \n",
      " 16  online_backup_No internet service      1407 non-null   uint8  \n",
      " 17  online_backup_Yes                      1407 non-null   uint8  \n",
      " 18  device_protection_No internet service  1407 non-null   uint8  \n",
      " 19  device_protection_Yes                  1407 non-null   uint8  \n",
      " 20  tech_support_No internet service       1407 non-null   uint8  \n",
      " 21  tech_support_Yes                       1407 non-null   uint8  \n",
      " 22  streaming_tv_No internet service       1407 non-null   uint8  \n",
      " 23  streaming_tv_Yes                       1407 non-null   uint8  \n",
      " 24  streaming_movies_No internet service   1407 non-null   uint8  \n",
      " 25  streaming_movies_Yes                   1407 non-null   uint8  \n",
      " 26  contract_type_One year                 1407 non-null   uint8  \n",
      " 27  contract_type_Two year                 1407 non-null   uint8  \n",
      " 28  internet_service_type_Fiber optic      1407 non-null   uint8  \n",
      " 29  internet_service_type_None             1407 non-null   uint8  \n",
      " 30  payment_type_Credit card (automatic)   1407 non-null   uint8  \n",
      " 31  payment_type_Electronic check          1407 non-null   uint8  \n",
      " 32  payment_type_Mailed check              1407 non-null   uint8  \n",
      " 33  monthly_charges_scaled                 1407 non-null   float64\n",
      " 34  total_charges_scaled                   1407 non-null   float64\n",
      " 35  tenure_scaled                          1407 non-null   float64\n",
      "dtypes: float64(3), int64(7), uint8(26)\n",
      "memory usage: 156.6 KB\n"
     ]
    }
   ],
   "source": [
    "from sklearn.preprocessing import MinMaxScaler\n",
    "\n",
    "continuous_features = ['monthly_charges', 'total_charges', 'tenure']\n",
    "scaler = MinMaxScaler()\n",
    "scaler.fit(test[continuous_features])\n",
    "\n",
    "test[['monthly_charges_scaled', 'total_charges_scaled', 'tenure_scaled']] = scaler.transform(test[continuous_features])\n",
    "test = test.drop(columns=['monthly_charges', 'total_charges', 'tenure'])\n",
    "test.info()"
   ]
  },
  {
   "cell_type": "code",
   "execution_count": null,
   "id": "3a5d8a16-4472-44b0-b163-d7a98c119487",
   "metadata": {},
   "outputs": [],
   "source": []
  },
  {
   "cell_type": "markdown",
   "id": "2e71d533-2ca5-4bf8-b480-83f47ef10099",
   "metadata": {},
   "source": [
    "<h2>Establish the Baseline Accuracy"
   ]
  },
  {
   "cell_type": "code",
   "execution_count": 8,
   "id": "b05be669-7a91-437d-909f-d8a639e57246",
   "metadata": {
    "tags": []
   },
   "outputs": [
    {
     "data": {
      "text/plain": [
       "0.2656845313690627"
      ]
     },
     "execution_count": 8,
     "metadata": {},
     "output_type": "execute_result"
    }
   ],
   "source": [
    "baseline = train.churn_encoded.mean()\n",
    "baseline"
   ]
  },
  {
   "cell_type": "code",
   "execution_count": 9,
   "id": "e5e6efe6-2271-4089-8a17-58da489f2d77",
   "metadata": {
    "tags": []
   },
   "outputs": [
    {
     "data": {
      "text/plain": [
       "0    2891\n",
       "1    1046\n",
       "Name: churn_encoded, dtype: int64"
      ]
     },
     "execution_count": 9,
     "metadata": {},
     "output_type": "execute_result"
    }
   ],
   "source": [
    "train.churn_encoded.value_counts()"
   ]
  },
  {
   "cell_type": "code",
   "execution_count": 10,
   "id": "eb6018fc-e2cb-456e-a336-faeb18ef1813",
   "metadata": {
    "tags": []
   },
   "outputs": [
    {
     "data": {
      "text/plain": [
       "0.7343154686309372"
      ]
     },
     "execution_count": 10,
     "metadata": {},
     "output_type": "execute_result"
    }
   ],
   "source": [
    "baseline_accuracy = (train.churn_encoded == 0).mean()\n",
    "baseline_accuracy #0.73 or 73%"
   ]
  },
  {
   "cell_type": "code",
   "execution_count": 11,
   "id": "b7c89d05-cb81-4368-8dbb-18b062a43878",
   "metadata": {
    "tags": []
   },
   "outputs": [
    {
     "name": "stdout",
     "output_type": "stream",
     "text": [
      "We would say that a model is not useful to us unless it does better than 0.73\n"
     ]
    }
   ],
   "source": [
    "print(f'We would say that a model is not useful to us unless it does better than {round(baseline_accuracy, 2)}')"
   ]
  },
  {
   "cell_type": "markdown",
   "id": "3de382b6-3948-4e15-a635-494a1434cd29",
   "metadata": {},
   "source": [
    "<h2>Now let's get to Modeling"
   ]
  },
  {
   "cell_type": "markdown",
   "id": "f3f82172-7402-4d83-9bf3-d8ae8c6e5426",
   "metadata": {},
   "source": [
    "> <h2><b>Decision Tree"
   ]
  },
  {
   "cell_type": "markdown",
   "id": "39b3b690-9da6-4128-b630-06679ce7a08a",
   "metadata": {},
   "source": [
    "> > <b>This is with the top 10 features"
   ]
  },
  {
   "cell_type": "code",
   "execution_count": 23,
   "id": "466998e3-8a03-4b3d-bbc7-5d18158b808e",
   "metadata": {
    "tags": []
   },
   "outputs": [],
   "source": [
    "X_train2 = train[['internet_service_type_Fiber optic', 'payment_type_Electronic check', 'monthly_charges_scaled', 'paperless_billing_encoded','paperless_billing_Yes', 'senior_citizen', 'multiple_lines_Yes', 'streaming_movies_Yes', 'streaming_tv_Yes', 'phone_service_Yes' ]]\n",
    "y_train2 = train.churn_encoded\n",
    "\n",
    "X_validate2 = validate[['internet_service_type_Fiber optic', 'payment_type_Electronic check', 'monthly_charges_scaled', 'paperless_billing_encoded','paperless_billing_Yes', 'senior_citizen', 'multiple_lines_Yes', 'streaming_movies_Yes', 'streaming_tv_Yes', 'phone_service_Yes' ]]\n",
    "y_validate2 = validate.churn_encoded\n",
    "\n",
    "X_test2 = test[['internet_service_type_Fiber optic', 'payment_type_Electronic check', 'monthly_charges_scaled', 'paperless_billing_encoded','paperless_billing_Yes', 'senior_citizen', 'multiple_lines_Yes', 'streaming_movies_Yes', 'streaming_tv_Yes', 'phone_service_Yes' ]]\n",
    "y_test2 = test.churn_encoded"
   ]
  },
  {
   "cell_type": "code",
   "execution_count": 24,
   "id": "0c6e8279-de06-4bd4-af92-6bfb421151c6",
   "metadata": {},
   "outputs": [],
   "source": [
    "clf2 = DecisionTreeClassifier(max_depth=7, random_state=123)"
   ]
  },
  {
   "cell_type": "code",
   "execution_count": 25,
   "id": "d18cf8a7-c31e-4cc9-9a4a-3d41a211c299",
   "metadata": {},
   "outputs": [],
   "source": [
    "# model.fit(X, y)\n",
    "\n",
    "clf2 = clf.fit(X_train2, y_train2)"
   ]
  },
  {
   "cell_type": "code",
   "execution_count": 26,
   "id": "952ea740-06e6-4b12-a477-f34b31dead5f",
   "metadata": {},
   "outputs": [
    {
     "data": {
      "text/plain": [
       "array([0, 0, 0, 0, 0, 1, 0, 0, 1, 0, 0, 0, 0, 0, 1, 1, 1, 0, 1, 0])"
      ]
     },
     "execution_count": 26,
     "metadata": {},
     "output_type": "execute_result"
    }
   ],
   "source": [
    "clf2.predict(X_train2)[:20]"
   ]
  },
  {
   "cell_type": "code",
   "execution_count": 27,
   "id": "6fe4031b-0c58-473a-b76b-5e50e0f9555a",
   "metadata": {},
   "outputs": [
    {
     "data": {
      "text/plain": [
       "0.7978155956311913"
      ]
     },
     "execution_count": 27,
     "metadata": {},
     "output_type": "execute_result"
    }
   ],
   "source": [
    "clf2.score(X_train2, y_train2)"
   ]
  },
  {
   "cell_type": "code",
   "execution_count": 28,
   "id": "c2d32dcf-62f0-4d7f-8ade-af4913d38561",
   "metadata": {},
   "outputs": [],
   "source": [
    "y_pred2 = clf2.predict(X_train2)"
   ]
  },
  {
   "cell_type": "code",
   "execution_count": 29,
   "id": "79f7587e-8e7e-44ec-87f2-61df75c4e1c0",
   "metadata": {},
   "outputs": [
    {
     "data": {
      "text/plain": [
       "array([[2715,  176],\n",
       "       [ 620,  426]])"
      ]
     },
     "execution_count": 29,
     "metadata": {},
     "output_type": "execute_result"
    }
   ],
   "source": [
    "conf2 = confusion_matrix(y_train2, y_pred2)\n",
    "conf2"
   ]
  },
  {
   "cell_type": "code",
   "execution_count": 30,
   "id": "5b77c0a2-3d8a-4c5a-bc7c-ccbc18d65b6a",
   "metadata": {},
   "outputs": [
    {
     "data": {
      "text/plain": [
       "[0, 1]"
      ]
     },
     "execution_count": 30,
     "metadata": {},
     "output_type": "execute_result"
    }
   ],
   "source": [
    "labels2 = sorted(y_train2.unique())\n",
    "labels2"
   ]
  },
  {
   "cell_type": "code",
   "execution_count": 31,
   "id": "c9391638-ddcf-4b20-9f48-1961cde6057f",
   "metadata": {},
   "outputs": [
    {
     "data": {
      "text/html": [
       "<div>\n",
       "<style scoped>\n",
       "    .dataframe tbody tr th:only-of-type {\n",
       "        vertical-align: middle;\n",
       "    }\n",
       "\n",
       "    .dataframe tbody tr th {\n",
       "        vertical-align: top;\n",
       "    }\n",
       "\n",
       "    .dataframe thead th {\n",
       "        text-align: right;\n",
       "    }\n",
       "</style>\n",
       "<table border=\"1\" class=\"dataframe\">\n",
       "  <thead>\n",
       "    <tr style=\"text-align: right;\">\n",
       "      <th></th>\n",
       "      <th>0</th>\n",
       "      <th>1</th>\n",
       "    </tr>\n",
       "  </thead>\n",
       "  <tbody>\n",
       "    <tr>\n",
       "      <th>0</th>\n",
       "      <td>2715</td>\n",
       "      <td>176</td>\n",
       "    </tr>\n",
       "    <tr>\n",
       "      <th>1</th>\n",
       "      <td>620</td>\n",
       "      <td>426</td>\n",
       "    </tr>\n",
       "  </tbody>\n",
       "</table>\n",
       "</div>"
      ],
      "text/plain": [
       "      0    1\n",
       "0  2715  176\n",
       "1   620  426"
      ]
     },
     "execution_count": 31,
     "metadata": {},
     "output_type": "execute_result"
    }
   ],
   "source": [
    "pd.DataFrame(conf2)"
   ]
  },
  {
   "cell_type": "code",
   "execution_count": 32,
   "id": "00efc19b-32f5-4bdb-a3c7-2644308e9b4b",
   "metadata": {},
   "outputs": [
    {
     "name": "stdout",
     "output_type": "stream",
     "text": [
      "              precision    recall  f1-score   support\n",
      "\n",
      "           0       0.81      0.94      0.87      2891\n",
      "           1       0.71      0.41      0.52      1046\n",
      "\n",
      "    accuracy                           0.80      3937\n",
      "   macro avg       0.76      0.67      0.69      3937\n",
      "weighted avg       0.79      0.80      0.78      3937\n",
      "\n"
     ]
    }
   ],
   "source": [
    "print(classification_report(y_train2, y_pred2))"
   ]
  },
  {
   "cell_type": "code",
   "execution_count": 33,
   "id": "42fa42fc-7ac4-42f7-887c-f0411f363c21",
   "metadata": {
    "tags": []
   },
   "outputs": [
    {
     "name": "stdout",
     "output_type": "stream",
     "text": [
      "Accuracy of Decision Tree on train data is 0.7978155956311913\n",
      "Accuracy of Decision Tree on validate data is 0.7381516587677726\n"
     ]
    }
   ],
   "source": [
    "print(f\"Accuracy of Decision Tree on train data is {clf2.score(X_train2, y_train2)}\")\n",
    "print(f\"Accuracy of Decision Tree on validate data is {clf2.score(X_validate2, y_validate2)}\")"
   ]
  },
  {
   "cell_type": "markdown",
   "id": "687ab869-b945-4893-b1e2-c093fefa7268",
   "metadata": {},
   "source": [
    "> > <b>This is with the top 5 features"
   ]
  },
  {
   "cell_type": "code",
   "execution_count": 34,
   "id": "ebf63df8-aeb6-4a88-baa1-2ad5dd3f9881",
   "metadata": {
    "tags": []
   },
   "outputs": [],
   "source": [
    "X_train3 = train[['internet_service_type_Fiber optic', 'payment_type_Electronic check', 'monthly_charges_scaled', 'paperless_billing_encoded','paperless_billing_Yes']]\n",
    "y_train3 = train.churn_encoded\n",
    "\n",
    "X_validate3 = validate[['internet_service_type_Fiber optic', 'payment_type_Electronic check', 'monthly_charges_scaled', 'paperless_billing_encoded','paperless_billing_Yes']]\n",
    "y_validate3 = validate.churn_encoded\n",
    "\n",
    "X_test3 = test[['internet_service_type_Fiber optic', 'payment_type_Electronic check', 'monthly_charges_scaled', 'paperless_billing_encoded','paperless_billing_Yes']]\n",
    "y_test3 = test.churn_encoded"
   ]
  },
  {
   "cell_type": "code",
   "execution_count": 35,
   "id": "570d62e0-acd9-48dc-a536-bcce15de119b",
   "metadata": {
    "tags": []
   },
   "outputs": [],
   "source": [
    "clf3 = DecisionTreeClassifier(max_depth=7, random_state=123)"
   ]
  },
  {
   "cell_type": "code",
   "execution_count": 36,
   "id": "d1d61a1c-fd7b-4e1a-87d0-0d87b2c33589",
   "metadata": {
    "tags": []
   },
   "outputs": [],
   "source": [
    "# model.fit(X, y)\n",
    "\n",
    "clf3 = clf.fit(X_train3, y_train3)"
   ]
  },
  {
   "cell_type": "code",
   "execution_count": 37,
   "id": "24a3d368-5a7b-4ac0-a859-01e2b2f81cb6",
   "metadata": {
    "tags": []
   },
   "outputs": [
    {
     "data": {
      "text/plain": [
       "array([0, 0, 0, 0, 0, 1, 0, 0, 1, 0, 0, 0, 0, 0, 1, 1, 1, 0, 0, 0])"
      ]
     },
     "execution_count": 37,
     "metadata": {},
     "output_type": "execute_result"
    }
   ],
   "source": [
    "clf3.predict(X_train3)[:20]"
   ]
  },
  {
   "cell_type": "code",
   "execution_count": 38,
   "id": "3267089c-1996-4afd-bb4d-69a3d6aa9ed4",
   "metadata": {},
   "outputs": [
    {
     "data": {
      "text/plain": [
       "0.792735585471171"
      ]
     },
     "execution_count": 38,
     "metadata": {},
     "output_type": "execute_result"
    }
   ],
   "source": [
    "clf3.score(X_train3, y_train3)"
   ]
  },
  {
   "cell_type": "code",
   "execution_count": 39,
   "id": "923bc356-3430-4198-9a55-c7ec9d5fd122",
   "metadata": {
    "tags": []
   },
   "outputs": [],
   "source": [
    "y_pred3 = clf3.predict(X_train3)"
   ]
  },
  {
   "cell_type": "code",
   "execution_count": 40,
   "id": "52f349d1-0762-40dc-b0ed-ed2afda03722",
   "metadata": {
    "tags": []
   },
   "outputs": [
    {
     "data": {
      "text/plain": [
       "array([[2637,  254],\n",
       "       [ 562,  484]])"
      ]
     },
     "execution_count": 40,
     "metadata": {},
     "output_type": "execute_result"
    }
   ],
   "source": [
    "conf3 = confusion_matrix(y_train3, y_pred3)\n",
    "conf3"
   ]
  },
  {
   "cell_type": "code",
   "execution_count": 41,
   "id": "66154d64-c10b-4953-8985-a99493bfaf3c",
   "metadata": {
    "tags": []
   },
   "outputs": [
    {
     "data": {
      "text/plain": [
       "[0, 1]"
      ]
     },
     "execution_count": 41,
     "metadata": {},
     "output_type": "execute_result"
    }
   ],
   "source": [
    "labels3 = sorted(y_train3.unique())\n",
    "labels3"
   ]
  },
  {
   "cell_type": "code",
   "execution_count": 42,
   "id": "b4ad3659-af0a-4b77-954b-9aff65e44aca",
   "metadata": {
    "tags": []
   },
   "outputs": [
    {
     "data": {
      "text/html": [
       "<div>\n",
       "<style scoped>\n",
       "    .dataframe tbody tr th:only-of-type {\n",
       "        vertical-align: middle;\n",
       "    }\n",
       "\n",
       "    .dataframe tbody tr th {\n",
       "        vertical-align: top;\n",
       "    }\n",
       "\n",
       "    .dataframe thead th {\n",
       "        text-align: right;\n",
       "    }\n",
       "</style>\n",
       "<table border=\"1\" class=\"dataframe\">\n",
       "  <thead>\n",
       "    <tr style=\"text-align: right;\">\n",
       "      <th></th>\n",
       "      <th>0</th>\n",
       "      <th>1</th>\n",
       "    </tr>\n",
       "  </thead>\n",
       "  <tbody>\n",
       "    <tr>\n",
       "      <th>0</th>\n",
       "      <td>2637</td>\n",
       "      <td>254</td>\n",
       "    </tr>\n",
       "    <tr>\n",
       "      <th>1</th>\n",
       "      <td>562</td>\n",
       "      <td>484</td>\n",
       "    </tr>\n",
       "  </tbody>\n",
       "</table>\n",
       "</div>"
      ],
      "text/plain": [
       "      0    1\n",
       "0  2637  254\n",
       "1   562  484"
      ]
     },
     "execution_count": 42,
     "metadata": {},
     "output_type": "execute_result"
    }
   ],
   "source": [
    "pd.DataFrame(conf3)"
   ]
  },
  {
   "cell_type": "code",
   "execution_count": 43,
   "id": "d4464482-dec3-433d-a142-1e8550d03893",
   "metadata": {
    "tags": []
   },
   "outputs": [
    {
     "name": "stdout",
     "output_type": "stream",
     "text": [
      "              precision    recall  f1-score   support\n",
      "\n",
      "           0       0.82      0.91      0.87      2891\n",
      "           1       0.66      0.46      0.54      1046\n",
      "\n",
      "    accuracy                           0.79      3937\n",
      "   macro avg       0.74      0.69      0.70      3937\n",
      "weighted avg       0.78      0.79      0.78      3937\n",
      "\n"
     ]
    }
   ],
   "source": [
    "print(classification_report(y_train3, y_pred3))"
   ]
  },
  {
   "cell_type": "code",
   "execution_count": 44,
   "id": "b47ee1ab-b00a-4404-a2ae-2ece835b4b79",
   "metadata": {
    "tags": []
   },
   "outputs": [
    {
     "name": "stdout",
     "output_type": "stream",
     "text": [
      "Accuracy of Decision Tree on train data is 0.792735585471171\n",
      "Accuracy of Decision Tree on validate data is 0.7351895734597157\n"
     ]
    }
   ],
   "source": [
    "print(f\"Accuracy of Decision Tree on train data is {clf3.score(X_train3, y_train3)}\")\n",
    "print(f\"Accuracy of Decision Tree on validate data is {clf3.score(X_validate3, y_validate3)}\")"
   ]
  },
  {
   "cell_type": "markdown",
   "id": "145cdd6e-59cd-4bf2-9f44-221c3b53472e",
   "metadata": {},
   "source": [
    "> > <b>This is with SelectK Best's top 5 features"
   ]
  },
  {
   "cell_type": "code",
   "execution_count": 45,
   "id": "43345900-1b82-4233-acc2-02a9bb5dc40e",
   "metadata": {
    "tags": []
   },
   "outputs": [],
   "source": [
    "X_train4 = train[['tenure_scaled', 'contract_type_Two year','internet_service_type_Fiber optic', 'internet_service_type_None','payment_type_Electronic check']]\n",
    "y_train4 = train.churn_encoded\n",
    "\n",
    "X_validate4 = validate[['tenure_scaled', 'contract_type_Two year','internet_service_type_Fiber optic', 'internet_service_type_None','payment_type_Electronic check']]\n",
    "y_validate4 = validate.churn_encoded\n",
    "\n",
    "X_test4 = test[['tenure_scaled', 'contract_type_Two year','internet_service_type_Fiber optic', 'internet_service_type_None','payment_type_Electronic check']]\n",
    "y_test4 = test.churn_encoded"
   ]
  },
  {
   "cell_type": "code",
   "execution_count": 46,
   "id": "e61b961c-0059-410b-a6df-ef08105bd1bb",
   "metadata": {
    "tags": []
   },
   "outputs": [],
   "source": [
    "clf4 = DecisionTreeClassifier(max_depth=7, random_state=123)"
   ]
  },
  {
   "cell_type": "code",
   "execution_count": 47,
   "id": "d315d8d1-f4c8-4732-89b9-32b0e7cd5740",
   "metadata": {
    "tags": []
   },
   "outputs": [],
   "source": [
    "# model.fit(X, y)\n",
    "\n",
    "clf4 = clf.fit(X_train4, y_train4)"
   ]
  },
  {
   "cell_type": "code",
   "execution_count": 48,
   "id": "6ae5bcd8-a976-4d9b-8333-6096c18e0d11",
   "metadata": {},
   "outputs": [
    {
     "data": {
      "text/plain": [
       "array([0, 0, 0, 0, 0, 1, 0, 0, 1, 0, 0, 1, 1, 0, 1, 1, 1, 0, 0, 0])"
      ]
     },
     "execution_count": 48,
     "metadata": {},
     "output_type": "execute_result"
    }
   ],
   "source": [
    "clf4.predict(X_train4)[:20]"
   ]
  },
  {
   "cell_type": "code",
   "execution_count": 49,
   "id": "95b0208e-1117-4f4c-b632-c20960e4e2db",
   "metadata": {},
   "outputs": [
    {
     "data": {
      "text/plain": [
       "0.8084836169672339"
      ]
     },
     "execution_count": 49,
     "metadata": {},
     "output_type": "execute_result"
    }
   ],
   "source": [
    "clf4.score(X_train4, y_train4)"
   ]
  },
  {
   "cell_type": "code",
   "execution_count": 50,
   "id": "89810d00-45a7-4e89-a992-3197ca132491",
   "metadata": {},
   "outputs": [],
   "source": [
    "y_pred4 = clf3.predict(X_train4)"
   ]
  },
  {
   "cell_type": "code",
   "execution_count": 51,
   "id": "69ca45ff-aa36-4ed7-b854-156fcf5b4bad",
   "metadata": {},
   "outputs": [
    {
     "data": {
      "text/plain": [
       "array([[2574,  317],\n",
       "       [ 437,  609]])"
      ]
     },
     "execution_count": 51,
     "metadata": {},
     "output_type": "execute_result"
    }
   ],
   "source": [
    "conf4 = confusion_matrix(y_train4, y_pred4)\n",
    "conf4"
   ]
  },
  {
   "cell_type": "code",
   "execution_count": 52,
   "id": "42c69155-40ab-403e-b056-d2002d44bbdf",
   "metadata": {},
   "outputs": [
    {
     "data": {
      "text/plain": [
       "[0, 1]"
      ]
     },
     "execution_count": 52,
     "metadata": {},
     "output_type": "execute_result"
    }
   ],
   "source": [
    "labels4 = sorted(y_train3.unique())\n",
    "labels4"
   ]
  },
  {
   "cell_type": "code",
   "execution_count": 53,
   "id": "ad34c017-657e-4f9b-84da-6dac6b651953",
   "metadata": {},
   "outputs": [
    {
     "data": {
      "text/html": [
       "<div>\n",
       "<style scoped>\n",
       "    .dataframe tbody tr th:only-of-type {\n",
       "        vertical-align: middle;\n",
       "    }\n",
       "\n",
       "    .dataframe tbody tr th {\n",
       "        vertical-align: top;\n",
       "    }\n",
       "\n",
       "    .dataframe thead th {\n",
       "        text-align: right;\n",
       "    }\n",
       "</style>\n",
       "<table border=\"1\" class=\"dataframe\">\n",
       "  <thead>\n",
       "    <tr style=\"text-align: right;\">\n",
       "      <th></th>\n",
       "      <th>0</th>\n",
       "      <th>1</th>\n",
       "    </tr>\n",
       "  </thead>\n",
       "  <tbody>\n",
       "    <tr>\n",
       "      <th>0</th>\n",
       "      <td>2574</td>\n",
       "      <td>317</td>\n",
       "    </tr>\n",
       "    <tr>\n",
       "      <th>1</th>\n",
       "      <td>437</td>\n",
       "      <td>609</td>\n",
       "    </tr>\n",
       "  </tbody>\n",
       "</table>\n",
       "</div>"
      ],
      "text/plain": [
       "      0    1\n",
       "0  2574  317\n",
       "1   437  609"
      ]
     },
     "execution_count": 53,
     "metadata": {},
     "output_type": "execute_result"
    }
   ],
   "source": [
    "pd.DataFrame(conf4)"
   ]
  },
  {
   "cell_type": "code",
   "execution_count": 54,
   "id": "6d109fd5-a1a8-49d5-a665-e8e0267cdbad",
   "metadata": {},
   "outputs": [
    {
     "name": "stdout",
     "output_type": "stream",
     "text": [
      "              precision    recall  f1-score   support\n",
      "\n",
      "           0       0.85      0.89      0.87      2891\n",
      "           1       0.66      0.58      0.62      1046\n",
      "\n",
      "    accuracy                           0.81      3937\n",
      "   macro avg       0.76      0.74      0.74      3937\n",
      "weighted avg       0.80      0.81      0.80      3937\n",
      "\n"
     ]
    }
   ],
   "source": [
    "print(classification_report(y_train4, y_pred4))"
   ]
  },
  {
   "cell_type": "code",
   "execution_count": 55,
   "id": "73b527fd-d75f-4880-999c-eb7b1f168ec7",
   "metadata": {
    "tags": []
   },
   "outputs": [
    {
     "name": "stdout",
     "output_type": "stream",
     "text": [
      "Accuracy of Decision Tree on train data is 0.8084836169672339\n",
      "Accuracy of Decision Tree on validate data is 0.773696682464455\n"
     ]
    }
   ],
   "source": [
    "print(f\"Accuracy of Decision Tree on train data is {clf4.score(X_train4, y_train4)}\")\n",
    "print(f\"Accuracy of Decision Tree on validate data is {clf4.score(X_validate4, y_validate4)}\")"
   ]
  },
  {
   "cell_type": "markdown",
   "id": "90379b5e-713b-4f87-a57d-5cef720583b8",
   "metadata": {},
   "source": [
    "> > <b>This is with RFE's top 5 features"
   ]
  },
  {
   "cell_type": "code",
   "execution_count": 56,
   "id": "01a283bb-1cf1-4328-8105-80f47b2927a5",
   "metadata": {},
   "outputs": [],
   "source": [
    "X_train5 = train[['dependents_encoded', 'phone_service_encoded', 'dependents_Yes','online_security_No internet service','streaming_movies_No internet service']]\n",
    "y_train5 = train.churn_encoded\n",
    "\n",
    "X_validate5 = validate[['dependents_encoded', 'phone_service_encoded', 'dependents_Yes','online_security_No internet service','streaming_movies_No internet service']]\n",
    "y_validate5 = validate.churn_encoded\n",
    "\n",
    "X_test5 = test[['dependents_encoded', 'phone_service_encoded', 'dependents_Yes','online_security_No internet service','streaming_movies_No internet service']]\n",
    "y_test5 = test.churn_encoded"
   ]
  },
  {
   "cell_type": "code",
   "execution_count": 57,
   "id": "80cbf674-40fb-4ba5-89a4-92e948c38a49",
   "metadata": {},
   "outputs": [],
   "source": [
    "clf5 = DecisionTreeClassifier(max_depth=7, random_state=123)"
   ]
  },
  {
   "cell_type": "code",
   "execution_count": 58,
   "id": "5cfdf1e3-fb78-412e-9534-1b06c6576118",
   "metadata": {},
   "outputs": [],
   "source": [
    "# model.fit(X, y)\n",
    "\n",
    "clf5 = clf.fit(X_train5, y_train5)"
   ]
  },
  {
   "cell_type": "code",
   "execution_count": 59,
   "id": "bd33b594-70c3-48dc-aff2-18709cd7c516",
   "metadata": {},
   "outputs": [
    {
     "data": {
      "text/plain": [
       "array([0, 0, 0, 0, 0, 0, 0, 0, 0, 0, 0, 0, 0, 0, 0, 0, 0, 0, 0, 0])"
      ]
     },
     "execution_count": 59,
     "metadata": {},
     "output_type": "execute_result"
    }
   ],
   "source": [
    "clf5.predict(X_train5)[:20]"
   ]
  },
  {
   "cell_type": "code",
   "execution_count": 60,
   "id": "50acb50f-f1e7-4da3-a930-596848ef7d60",
   "metadata": {},
   "outputs": [
    {
     "data": {
      "text/plain": [
       "0.7343154686309372"
      ]
     },
     "execution_count": 60,
     "metadata": {},
     "output_type": "execute_result"
    }
   ],
   "source": [
    "clf5.score(X_train5, y_train5)"
   ]
  },
  {
   "cell_type": "code",
   "execution_count": 61,
   "id": "97d9b749-b807-4dcd-a9cb-1a75ee03b412",
   "metadata": {},
   "outputs": [],
   "source": [
    "y_pred5 = clf5.predict(X_train5)"
   ]
  },
  {
   "cell_type": "code",
   "execution_count": 62,
   "id": "a8b50ab2-1e44-402e-9f04-adc3cdc9b64a",
   "metadata": {},
   "outputs": [
    {
     "data": {
      "text/plain": [
       "array([[2891,    0],\n",
       "       [1046,    0]])"
      ]
     },
     "execution_count": 62,
     "metadata": {},
     "output_type": "execute_result"
    }
   ],
   "source": [
    "conf5 = confusion_matrix(y_train5, y_pred5)\n",
    "conf5"
   ]
  },
  {
   "cell_type": "code",
   "execution_count": 63,
   "id": "529cc1f1-002d-4619-81bf-8499a43a2c74",
   "metadata": {},
   "outputs": [
    {
     "data": {
      "text/plain": [
       "[0, 1]"
      ]
     },
     "execution_count": 63,
     "metadata": {},
     "output_type": "execute_result"
    }
   ],
   "source": [
    "labels5 = sorted(y_train5.unique())\n",
    "labels5"
   ]
  },
  {
   "cell_type": "code",
   "execution_count": 64,
   "id": "de6a500e-ee85-4c05-b956-342a08c1da37",
   "metadata": {},
   "outputs": [
    {
     "data": {
      "text/html": [
       "<div>\n",
       "<style scoped>\n",
       "    .dataframe tbody tr th:only-of-type {\n",
       "        vertical-align: middle;\n",
       "    }\n",
       "\n",
       "    .dataframe tbody tr th {\n",
       "        vertical-align: top;\n",
       "    }\n",
       "\n",
       "    .dataframe thead th {\n",
       "        text-align: right;\n",
       "    }\n",
       "</style>\n",
       "<table border=\"1\" class=\"dataframe\">\n",
       "  <thead>\n",
       "    <tr style=\"text-align: right;\">\n",
       "      <th></th>\n",
       "      <th>0</th>\n",
       "      <th>1</th>\n",
       "    </tr>\n",
       "  </thead>\n",
       "  <tbody>\n",
       "    <tr>\n",
       "      <th>0</th>\n",
       "      <td>2891</td>\n",
       "      <td>0</td>\n",
       "    </tr>\n",
       "    <tr>\n",
       "      <th>1</th>\n",
       "      <td>1046</td>\n",
       "      <td>0</td>\n",
       "    </tr>\n",
       "  </tbody>\n",
       "</table>\n",
       "</div>"
      ],
      "text/plain": [
       "      0  1\n",
       "0  2891  0\n",
       "1  1046  0"
      ]
     },
     "execution_count": 64,
     "metadata": {},
     "output_type": "execute_result"
    }
   ],
   "source": [
    "pd.DataFrame(conf5)"
   ]
  },
  {
   "cell_type": "code",
   "execution_count": 65,
   "id": "3dcdfd79-18a5-40cc-a229-1d7afbef480f",
   "metadata": {},
   "outputs": [
    {
     "name": "stdout",
     "output_type": "stream",
     "text": [
      "              precision    recall  f1-score   support\n",
      "\n",
      "           0       0.73      1.00      0.85      2891\n",
      "           1       0.00      0.00      0.00      1046\n",
      "\n",
      "    accuracy                           0.73      3937\n",
      "   macro avg       0.37      0.50      0.42      3937\n",
      "weighted avg       0.54      0.73      0.62      3937\n",
      "\n"
     ]
    }
   ],
   "source": [
    "print(classification_report(y_train5, y_pred5))"
   ]
  },
  {
   "cell_type": "code",
   "execution_count": 66,
   "id": "7850d432-19bb-44bf-ad31-b8552e7a6eaf",
   "metadata": {
    "tags": []
   },
   "outputs": [
    {
     "name": "stdout",
     "output_type": "stream",
     "text": [
      "Accuracy of Decision Tree on train data is 0.7343154686309372\n",
      "Accuracy of Decision Tree on validate data is 0.7340047393364929\n"
     ]
    }
   ],
   "source": [
    "print(f\"Accuracy of Decision Tree on train data is {clf5.score(X_train5, y_train5)}\")\n",
    "print(f\"Accuracy of Decision Tree on validate data is {clf5.score(X_validate5, y_validate5)}\")"
   ]
  },
  {
   "cell_type": "markdown",
   "id": "a5704f33-919c-4ed8-8f32-e89322e211bc",
   "metadata": {
    "tags": []
   },
   "source": [
    "> <h2><b>KNN"
   ]
  },
  {
   "cell_type": "markdown",
   "id": "c64b6576-de16-40ea-b99b-4463b50ce909",
   "metadata": {
    "tags": []
   },
   "source": [
    "<h4><b>Top 10 Correlation Features"
   ]
  },
  {
   "cell_type": "code",
   "execution_count": 72,
   "id": "2d6aa3ca-083e-4368-ba0c-2232c81dc678",
   "metadata": {
    "tags": []
   },
   "outputs": [],
   "source": [
    "knn1 = KNeighborsClassifier(n_neighbors=5, weights='uniform')"
   ]
  },
  {
   "cell_type": "code",
   "execution_count": 73,
   "id": "f1b3a954-cebe-4672-8c7a-bd7119e3ee5b",
   "metadata": {},
   "outputs": [
    {
     "data": {
      "text/html": [
       "<style>#sk-container-id-2 {color: black;background-color: white;}#sk-container-id-2 pre{padding: 0;}#sk-container-id-2 div.sk-toggleable {background-color: white;}#sk-container-id-2 label.sk-toggleable__label {cursor: pointer;display: block;width: 100%;margin-bottom: 0;padding: 0.3em;box-sizing: border-box;text-align: center;}#sk-container-id-2 label.sk-toggleable__label-arrow:before {content: \"▸\";float: left;margin-right: 0.25em;color: #696969;}#sk-container-id-2 label.sk-toggleable__label-arrow:hover:before {color: black;}#sk-container-id-2 div.sk-estimator:hover label.sk-toggleable__label-arrow:before {color: black;}#sk-container-id-2 div.sk-toggleable__content {max-height: 0;max-width: 0;overflow: hidden;text-align: left;background-color: #f0f8ff;}#sk-container-id-2 div.sk-toggleable__content pre {margin: 0.2em;color: black;border-radius: 0.25em;background-color: #f0f8ff;}#sk-container-id-2 input.sk-toggleable__control:checked~div.sk-toggleable__content {max-height: 200px;max-width: 100%;overflow: auto;}#sk-container-id-2 input.sk-toggleable__control:checked~label.sk-toggleable__label-arrow:before {content: \"▾\";}#sk-container-id-2 div.sk-estimator input.sk-toggleable__control:checked~label.sk-toggleable__label {background-color: #d4ebff;}#sk-container-id-2 div.sk-label input.sk-toggleable__control:checked~label.sk-toggleable__label {background-color: #d4ebff;}#sk-container-id-2 input.sk-hidden--visually {border: 0;clip: rect(1px 1px 1px 1px);clip: rect(1px, 1px, 1px, 1px);height: 1px;margin: -1px;overflow: hidden;padding: 0;position: absolute;width: 1px;}#sk-container-id-2 div.sk-estimator {font-family: monospace;background-color: #f0f8ff;border: 1px dotted black;border-radius: 0.25em;box-sizing: border-box;margin-bottom: 0.5em;}#sk-container-id-2 div.sk-estimator:hover {background-color: #d4ebff;}#sk-container-id-2 div.sk-parallel-item::after {content: \"\";width: 100%;border-bottom: 1px solid gray;flex-grow: 1;}#sk-container-id-2 div.sk-label:hover label.sk-toggleable__label {background-color: #d4ebff;}#sk-container-id-2 div.sk-serial::before {content: \"\";position: absolute;border-left: 1px solid gray;box-sizing: border-box;top: 0;bottom: 0;left: 50%;z-index: 0;}#sk-container-id-2 div.sk-serial {display: flex;flex-direction: column;align-items: center;background-color: white;padding-right: 0.2em;padding-left: 0.2em;position: relative;}#sk-container-id-2 div.sk-item {position: relative;z-index: 1;}#sk-container-id-2 div.sk-parallel {display: flex;align-items: stretch;justify-content: center;background-color: white;position: relative;}#sk-container-id-2 div.sk-item::before, #sk-container-id-2 div.sk-parallel-item::before {content: \"\";position: absolute;border-left: 1px solid gray;box-sizing: border-box;top: 0;bottom: 0;left: 50%;z-index: -1;}#sk-container-id-2 div.sk-parallel-item {display: flex;flex-direction: column;z-index: 1;position: relative;background-color: white;}#sk-container-id-2 div.sk-parallel-item:first-child::after {align-self: flex-end;width: 50%;}#sk-container-id-2 div.sk-parallel-item:last-child::after {align-self: flex-start;width: 50%;}#sk-container-id-2 div.sk-parallel-item:only-child::after {width: 0;}#sk-container-id-2 div.sk-dashed-wrapped {border: 1px dashed gray;margin: 0 0.4em 0.5em 0.4em;box-sizing: border-box;padding-bottom: 0.4em;background-color: white;}#sk-container-id-2 div.sk-label label {font-family: monospace;font-weight: bold;display: inline-block;line-height: 1.2em;}#sk-container-id-2 div.sk-label-container {text-align: center;}#sk-container-id-2 div.sk-container {/* jupyter's `normalize.less` sets `[hidden] { display: none; }` but bootstrap.min.css set `[hidden] { display: none !important; }` so we also need the `!important` here to be able to override the default hidden behavior on the sphinx rendered scikit-learn.org. See: https://github.com/scikit-learn/scikit-learn/issues/21755 */display: inline-block !important;position: relative;}#sk-container-id-2 div.sk-text-repr-fallback {display: none;}</style><div id=\"sk-container-id-2\" class=\"sk-top-container\"><div class=\"sk-text-repr-fallback\"><pre>KNeighborsClassifier()</pre><b>In a Jupyter environment, please rerun this cell to show the HTML representation or trust the notebook. <br />On GitHub, the HTML representation is unable to render, please try loading this page with nbviewer.org.</b></div><div class=\"sk-container\" hidden><div class=\"sk-item\"><div class=\"sk-estimator sk-toggleable\"><input class=\"sk-toggleable__control sk-hidden--visually\" id=\"sk-estimator-id-2\" type=\"checkbox\" checked><label for=\"sk-estimator-id-2\" class=\"sk-toggleable__label sk-toggleable__label-arrow\">KNeighborsClassifier</label><div class=\"sk-toggleable__content\"><pre>KNeighborsClassifier()</pre></div></div></div></div></div>"
      ],
      "text/plain": [
       "KNeighborsClassifier()"
      ]
     },
     "execution_count": 73,
     "metadata": {},
     "output_type": "execute_result"
    }
   ],
   "source": [
    "knn1.fit(X_train2, y_train2)"
   ]
  },
  {
   "cell_type": "code",
   "execution_count": 74,
   "id": "9a6af6f7-b589-43ca-aa0c-dea4f7970177",
   "metadata": {},
   "outputs": [],
   "source": [
    "y_pred1 = knn1.predict(X_train2)"
   ]
  },
  {
   "cell_type": "code",
   "execution_count": 75,
   "id": "c9f60e90-bbe1-4c2b-906d-f6e725368aa9",
   "metadata": {},
   "outputs": [],
   "source": [
    "y_pred_proba = knn1.predict_proba(X_train2)"
   ]
  },
  {
   "cell_type": "code",
   "execution_count": 76,
   "id": "5a8eb785-f808-47f8-b789-7b806d087cd1",
   "metadata": {},
   "outputs": [
    {
     "name": "stdout",
     "output_type": "stream",
     "text": [
      "Accuracy of KNN classifier on training set: 0.82\n",
      "Accuracy of KNN classifier on validate set: 0.74\n"
     ]
    }
   ],
   "source": [
    "print('Accuracy of KNN classifier on training set: {:.2f}'\n",
    "     .format(knn1.score(X_train2, y_train2)))\n",
    "print('Accuracy of KNN classifier on validate set: {:.2f}'\n",
    "     .format(knn1.score(X_validate2, y_validate2)))"
   ]
  },
  {
   "cell_type": "markdown",
   "id": "eef9033e-b41a-4930-9c6d-49f4ec3650a7",
   "metadata": {},
   "source": [
    "<h4><b>Top 5 Correlation Features"
   ]
  },
  {
   "cell_type": "code",
   "execution_count": 77,
   "id": "28c7e029-f83a-4833-bb7b-4702e40cd698",
   "metadata": {
    "tags": []
   },
   "outputs": [],
   "source": [
    "knn2 = KNeighborsClassifier(n_neighbors=5, weights='uniform')"
   ]
  },
  {
   "cell_type": "code",
   "execution_count": 78,
   "id": "d8e3829f-602f-4bd8-ba95-1765f18a2d22",
   "metadata": {},
   "outputs": [
    {
     "data": {
      "text/html": [
       "<style>#sk-container-id-3 {color: black;background-color: white;}#sk-container-id-3 pre{padding: 0;}#sk-container-id-3 div.sk-toggleable {background-color: white;}#sk-container-id-3 label.sk-toggleable__label {cursor: pointer;display: block;width: 100%;margin-bottom: 0;padding: 0.3em;box-sizing: border-box;text-align: center;}#sk-container-id-3 label.sk-toggleable__label-arrow:before {content: \"▸\";float: left;margin-right: 0.25em;color: #696969;}#sk-container-id-3 label.sk-toggleable__label-arrow:hover:before {color: black;}#sk-container-id-3 div.sk-estimator:hover label.sk-toggleable__label-arrow:before {color: black;}#sk-container-id-3 div.sk-toggleable__content {max-height: 0;max-width: 0;overflow: hidden;text-align: left;background-color: #f0f8ff;}#sk-container-id-3 div.sk-toggleable__content pre {margin: 0.2em;color: black;border-radius: 0.25em;background-color: #f0f8ff;}#sk-container-id-3 input.sk-toggleable__control:checked~div.sk-toggleable__content {max-height: 200px;max-width: 100%;overflow: auto;}#sk-container-id-3 input.sk-toggleable__control:checked~label.sk-toggleable__label-arrow:before {content: \"▾\";}#sk-container-id-3 div.sk-estimator input.sk-toggleable__control:checked~label.sk-toggleable__label {background-color: #d4ebff;}#sk-container-id-3 div.sk-label input.sk-toggleable__control:checked~label.sk-toggleable__label {background-color: #d4ebff;}#sk-container-id-3 input.sk-hidden--visually {border: 0;clip: rect(1px 1px 1px 1px);clip: rect(1px, 1px, 1px, 1px);height: 1px;margin: -1px;overflow: hidden;padding: 0;position: absolute;width: 1px;}#sk-container-id-3 div.sk-estimator {font-family: monospace;background-color: #f0f8ff;border: 1px dotted black;border-radius: 0.25em;box-sizing: border-box;margin-bottom: 0.5em;}#sk-container-id-3 div.sk-estimator:hover {background-color: #d4ebff;}#sk-container-id-3 div.sk-parallel-item::after {content: \"\";width: 100%;border-bottom: 1px solid gray;flex-grow: 1;}#sk-container-id-3 div.sk-label:hover label.sk-toggleable__label {background-color: #d4ebff;}#sk-container-id-3 div.sk-serial::before {content: \"\";position: absolute;border-left: 1px solid gray;box-sizing: border-box;top: 0;bottom: 0;left: 50%;z-index: 0;}#sk-container-id-3 div.sk-serial {display: flex;flex-direction: column;align-items: center;background-color: white;padding-right: 0.2em;padding-left: 0.2em;position: relative;}#sk-container-id-3 div.sk-item {position: relative;z-index: 1;}#sk-container-id-3 div.sk-parallel {display: flex;align-items: stretch;justify-content: center;background-color: white;position: relative;}#sk-container-id-3 div.sk-item::before, #sk-container-id-3 div.sk-parallel-item::before {content: \"\";position: absolute;border-left: 1px solid gray;box-sizing: border-box;top: 0;bottom: 0;left: 50%;z-index: -1;}#sk-container-id-3 div.sk-parallel-item {display: flex;flex-direction: column;z-index: 1;position: relative;background-color: white;}#sk-container-id-3 div.sk-parallel-item:first-child::after {align-self: flex-end;width: 50%;}#sk-container-id-3 div.sk-parallel-item:last-child::after {align-self: flex-start;width: 50%;}#sk-container-id-3 div.sk-parallel-item:only-child::after {width: 0;}#sk-container-id-3 div.sk-dashed-wrapped {border: 1px dashed gray;margin: 0 0.4em 0.5em 0.4em;box-sizing: border-box;padding-bottom: 0.4em;background-color: white;}#sk-container-id-3 div.sk-label label {font-family: monospace;font-weight: bold;display: inline-block;line-height: 1.2em;}#sk-container-id-3 div.sk-label-container {text-align: center;}#sk-container-id-3 div.sk-container {/* jupyter's `normalize.less` sets `[hidden] { display: none; }` but bootstrap.min.css set `[hidden] { display: none !important; }` so we also need the `!important` here to be able to override the default hidden behavior on the sphinx rendered scikit-learn.org. See: https://github.com/scikit-learn/scikit-learn/issues/21755 */display: inline-block !important;position: relative;}#sk-container-id-3 div.sk-text-repr-fallback {display: none;}</style><div id=\"sk-container-id-3\" class=\"sk-top-container\"><div class=\"sk-text-repr-fallback\"><pre>KNeighborsClassifier()</pre><b>In a Jupyter environment, please rerun this cell to show the HTML representation or trust the notebook. <br />On GitHub, the HTML representation is unable to render, please try loading this page with nbviewer.org.</b></div><div class=\"sk-container\" hidden><div class=\"sk-item\"><div class=\"sk-estimator sk-toggleable\"><input class=\"sk-toggleable__control sk-hidden--visually\" id=\"sk-estimator-id-3\" type=\"checkbox\" checked><label for=\"sk-estimator-id-3\" class=\"sk-toggleable__label sk-toggleable__label-arrow\">KNeighborsClassifier</label><div class=\"sk-toggleable__content\"><pre>KNeighborsClassifier()</pre></div></div></div></div></div>"
      ],
      "text/plain": [
       "KNeighborsClassifier()"
      ]
     },
     "execution_count": 78,
     "metadata": {},
     "output_type": "execute_result"
    }
   ],
   "source": [
    "knn2.fit(X_train3, y_train3)"
   ]
  },
  {
   "cell_type": "code",
   "execution_count": 79,
   "id": "53d8e004-2bcf-414d-8bd9-c59d3a1ab169",
   "metadata": {},
   "outputs": [],
   "source": [
    "y_pred1 = knn2.predict(X_train3)"
   ]
  },
  {
   "cell_type": "code",
   "execution_count": 80,
   "id": "848c8cb7-2f6a-4bfa-87e9-00fb95c12768",
   "metadata": {},
   "outputs": [],
   "source": [
    "y_pred_proba = knn2.predict_proba(X_train3)"
   ]
  },
  {
   "cell_type": "code",
   "execution_count": 81,
   "id": "97ead4cf-dfaf-4b09-a00b-5ae1ee32dde9",
   "metadata": {},
   "outputs": [
    {
     "name": "stdout",
     "output_type": "stream",
     "text": [
      "Accuracy of KNN classifier on training set: 0.81\n",
      "Accuracy of KNN classifier on validate set: 0.73\n"
     ]
    }
   ],
   "source": [
    "print('Accuracy of KNN classifier on training set: {:.2f}'\n",
    "     .format(knn2.score(X_train3, y_train3)))\n",
    "print('Accuracy of KNN classifier on validate set: {:.2f}'\n",
    "     .format(knn2.score(X_validate3, y_validate3)))"
   ]
  },
  {
   "cell_type": "markdown",
   "id": "c077d791-dd48-4efa-8506-3ba510bd06ab",
   "metadata": {},
   "source": [
    "<h4><b>Top 5 Features of Select K Best"
   ]
  },
  {
   "cell_type": "code",
   "execution_count": 82,
   "id": "ad9c7af6-6e59-47bb-8f70-33f5a038f0bf",
   "metadata": {},
   "outputs": [],
   "source": [
    "knn3 = KNeighborsClassifier(n_neighbors=5, weights='uniform')"
   ]
  },
  {
   "cell_type": "code",
   "execution_count": 83,
   "id": "202bc820-e912-4339-ae50-067e9d271153",
   "metadata": {},
   "outputs": [
    {
     "data": {
      "text/html": [
       "<style>#sk-container-id-4 {color: black;background-color: white;}#sk-container-id-4 pre{padding: 0;}#sk-container-id-4 div.sk-toggleable {background-color: white;}#sk-container-id-4 label.sk-toggleable__label {cursor: pointer;display: block;width: 100%;margin-bottom: 0;padding: 0.3em;box-sizing: border-box;text-align: center;}#sk-container-id-4 label.sk-toggleable__label-arrow:before {content: \"▸\";float: left;margin-right: 0.25em;color: #696969;}#sk-container-id-4 label.sk-toggleable__label-arrow:hover:before {color: black;}#sk-container-id-4 div.sk-estimator:hover label.sk-toggleable__label-arrow:before {color: black;}#sk-container-id-4 div.sk-toggleable__content {max-height: 0;max-width: 0;overflow: hidden;text-align: left;background-color: #f0f8ff;}#sk-container-id-4 div.sk-toggleable__content pre {margin: 0.2em;color: black;border-radius: 0.25em;background-color: #f0f8ff;}#sk-container-id-4 input.sk-toggleable__control:checked~div.sk-toggleable__content {max-height: 200px;max-width: 100%;overflow: auto;}#sk-container-id-4 input.sk-toggleable__control:checked~label.sk-toggleable__label-arrow:before {content: \"▾\";}#sk-container-id-4 div.sk-estimator input.sk-toggleable__control:checked~label.sk-toggleable__label {background-color: #d4ebff;}#sk-container-id-4 div.sk-label input.sk-toggleable__control:checked~label.sk-toggleable__label {background-color: #d4ebff;}#sk-container-id-4 input.sk-hidden--visually {border: 0;clip: rect(1px 1px 1px 1px);clip: rect(1px, 1px, 1px, 1px);height: 1px;margin: -1px;overflow: hidden;padding: 0;position: absolute;width: 1px;}#sk-container-id-4 div.sk-estimator {font-family: monospace;background-color: #f0f8ff;border: 1px dotted black;border-radius: 0.25em;box-sizing: border-box;margin-bottom: 0.5em;}#sk-container-id-4 div.sk-estimator:hover {background-color: #d4ebff;}#sk-container-id-4 div.sk-parallel-item::after {content: \"\";width: 100%;border-bottom: 1px solid gray;flex-grow: 1;}#sk-container-id-4 div.sk-label:hover label.sk-toggleable__label {background-color: #d4ebff;}#sk-container-id-4 div.sk-serial::before {content: \"\";position: absolute;border-left: 1px solid gray;box-sizing: border-box;top: 0;bottom: 0;left: 50%;z-index: 0;}#sk-container-id-4 div.sk-serial {display: flex;flex-direction: column;align-items: center;background-color: white;padding-right: 0.2em;padding-left: 0.2em;position: relative;}#sk-container-id-4 div.sk-item {position: relative;z-index: 1;}#sk-container-id-4 div.sk-parallel {display: flex;align-items: stretch;justify-content: center;background-color: white;position: relative;}#sk-container-id-4 div.sk-item::before, #sk-container-id-4 div.sk-parallel-item::before {content: \"\";position: absolute;border-left: 1px solid gray;box-sizing: border-box;top: 0;bottom: 0;left: 50%;z-index: -1;}#sk-container-id-4 div.sk-parallel-item {display: flex;flex-direction: column;z-index: 1;position: relative;background-color: white;}#sk-container-id-4 div.sk-parallel-item:first-child::after {align-self: flex-end;width: 50%;}#sk-container-id-4 div.sk-parallel-item:last-child::after {align-self: flex-start;width: 50%;}#sk-container-id-4 div.sk-parallel-item:only-child::after {width: 0;}#sk-container-id-4 div.sk-dashed-wrapped {border: 1px dashed gray;margin: 0 0.4em 0.5em 0.4em;box-sizing: border-box;padding-bottom: 0.4em;background-color: white;}#sk-container-id-4 div.sk-label label {font-family: monospace;font-weight: bold;display: inline-block;line-height: 1.2em;}#sk-container-id-4 div.sk-label-container {text-align: center;}#sk-container-id-4 div.sk-container {/* jupyter's `normalize.less` sets `[hidden] { display: none; }` but bootstrap.min.css set `[hidden] { display: none !important; }` so we also need the `!important` here to be able to override the default hidden behavior on the sphinx rendered scikit-learn.org. See: https://github.com/scikit-learn/scikit-learn/issues/21755 */display: inline-block !important;position: relative;}#sk-container-id-4 div.sk-text-repr-fallback {display: none;}</style><div id=\"sk-container-id-4\" class=\"sk-top-container\"><div class=\"sk-text-repr-fallback\"><pre>KNeighborsClassifier()</pre><b>In a Jupyter environment, please rerun this cell to show the HTML representation or trust the notebook. <br />On GitHub, the HTML representation is unable to render, please try loading this page with nbviewer.org.</b></div><div class=\"sk-container\" hidden><div class=\"sk-item\"><div class=\"sk-estimator sk-toggleable\"><input class=\"sk-toggleable__control sk-hidden--visually\" id=\"sk-estimator-id-4\" type=\"checkbox\" checked><label for=\"sk-estimator-id-4\" class=\"sk-toggleable__label sk-toggleable__label-arrow\">KNeighborsClassifier</label><div class=\"sk-toggleable__content\"><pre>KNeighborsClassifier()</pre></div></div></div></div></div>"
      ],
      "text/plain": [
       "KNeighborsClassifier()"
      ]
     },
     "execution_count": 83,
     "metadata": {},
     "output_type": "execute_result"
    }
   ],
   "source": [
    "knn3.fit(X_train4, y_train4)"
   ]
  },
  {
   "cell_type": "code",
   "execution_count": 84,
   "id": "a96af155-b300-42b0-a778-57ea95770807",
   "metadata": {},
   "outputs": [],
   "source": [
    "y_pred1 = knn3.predict(X_train4)"
   ]
  },
  {
   "cell_type": "code",
   "execution_count": 85,
   "id": "464ab766-352b-4cc7-a1cd-91930927fd68",
   "metadata": {},
   "outputs": [],
   "source": [
    "y_pred_proba = knn3.predict_proba(X_train4)"
   ]
  },
  {
   "cell_type": "code",
   "execution_count": 86,
   "id": "39fe06c8-9f1a-4676-9ccc-83971dc4c4e5",
   "metadata": {
    "tags": []
   },
   "outputs": [
    {
     "name": "stdout",
     "output_type": "stream",
     "text": [
      "Accuracy of KNN classifier on training set: 0.80\n",
      "Accuracy of KNN classifier on validate set: 0.75\n"
     ]
    }
   ],
   "source": [
    "print('Accuracy of KNN classifier on training set: {:.2f}'\n",
    "     .format(knn3.score(X_train4, y_train4)))\n",
    "print('Accuracy of KNN classifier on validate set: {:.2f}'\n",
    "     .format(knn3.score(X_validate4, y_validate4)))"
   ]
  },
  {
   "cell_type": "markdown",
   "id": "43fe9ab7-2ee4-4194-b2ea-11894df982b9",
   "metadata": {},
   "source": [
    "<h4><b>Top 5 Features of RFE"
   ]
  },
  {
   "cell_type": "code",
   "execution_count": 87,
   "id": "51ce40b8-2b4a-472f-93e1-995ddc9582a6",
   "metadata": {},
   "outputs": [],
   "source": [
    "knn4 = KNeighborsClassifier(n_neighbors=5, weights='uniform')"
   ]
  },
  {
   "cell_type": "code",
   "execution_count": 88,
   "id": "2ea9cf70-2c37-4241-ae4a-6e26a7f6dae4",
   "metadata": {},
   "outputs": [
    {
     "data": {
      "text/html": [
       "<style>#sk-container-id-5 {color: black;background-color: white;}#sk-container-id-5 pre{padding: 0;}#sk-container-id-5 div.sk-toggleable {background-color: white;}#sk-container-id-5 label.sk-toggleable__label {cursor: pointer;display: block;width: 100%;margin-bottom: 0;padding: 0.3em;box-sizing: border-box;text-align: center;}#sk-container-id-5 label.sk-toggleable__label-arrow:before {content: \"▸\";float: left;margin-right: 0.25em;color: #696969;}#sk-container-id-5 label.sk-toggleable__label-arrow:hover:before {color: black;}#sk-container-id-5 div.sk-estimator:hover label.sk-toggleable__label-arrow:before {color: black;}#sk-container-id-5 div.sk-toggleable__content {max-height: 0;max-width: 0;overflow: hidden;text-align: left;background-color: #f0f8ff;}#sk-container-id-5 div.sk-toggleable__content pre {margin: 0.2em;color: black;border-radius: 0.25em;background-color: #f0f8ff;}#sk-container-id-5 input.sk-toggleable__control:checked~div.sk-toggleable__content {max-height: 200px;max-width: 100%;overflow: auto;}#sk-container-id-5 input.sk-toggleable__control:checked~label.sk-toggleable__label-arrow:before {content: \"▾\";}#sk-container-id-5 div.sk-estimator input.sk-toggleable__control:checked~label.sk-toggleable__label {background-color: #d4ebff;}#sk-container-id-5 div.sk-label input.sk-toggleable__control:checked~label.sk-toggleable__label {background-color: #d4ebff;}#sk-container-id-5 input.sk-hidden--visually {border: 0;clip: rect(1px 1px 1px 1px);clip: rect(1px, 1px, 1px, 1px);height: 1px;margin: -1px;overflow: hidden;padding: 0;position: absolute;width: 1px;}#sk-container-id-5 div.sk-estimator {font-family: monospace;background-color: #f0f8ff;border: 1px dotted black;border-radius: 0.25em;box-sizing: border-box;margin-bottom: 0.5em;}#sk-container-id-5 div.sk-estimator:hover {background-color: #d4ebff;}#sk-container-id-5 div.sk-parallel-item::after {content: \"\";width: 100%;border-bottom: 1px solid gray;flex-grow: 1;}#sk-container-id-5 div.sk-label:hover label.sk-toggleable__label {background-color: #d4ebff;}#sk-container-id-5 div.sk-serial::before {content: \"\";position: absolute;border-left: 1px solid gray;box-sizing: border-box;top: 0;bottom: 0;left: 50%;z-index: 0;}#sk-container-id-5 div.sk-serial {display: flex;flex-direction: column;align-items: center;background-color: white;padding-right: 0.2em;padding-left: 0.2em;position: relative;}#sk-container-id-5 div.sk-item {position: relative;z-index: 1;}#sk-container-id-5 div.sk-parallel {display: flex;align-items: stretch;justify-content: center;background-color: white;position: relative;}#sk-container-id-5 div.sk-item::before, #sk-container-id-5 div.sk-parallel-item::before {content: \"\";position: absolute;border-left: 1px solid gray;box-sizing: border-box;top: 0;bottom: 0;left: 50%;z-index: -1;}#sk-container-id-5 div.sk-parallel-item {display: flex;flex-direction: column;z-index: 1;position: relative;background-color: white;}#sk-container-id-5 div.sk-parallel-item:first-child::after {align-self: flex-end;width: 50%;}#sk-container-id-5 div.sk-parallel-item:last-child::after {align-self: flex-start;width: 50%;}#sk-container-id-5 div.sk-parallel-item:only-child::after {width: 0;}#sk-container-id-5 div.sk-dashed-wrapped {border: 1px dashed gray;margin: 0 0.4em 0.5em 0.4em;box-sizing: border-box;padding-bottom: 0.4em;background-color: white;}#sk-container-id-5 div.sk-label label {font-family: monospace;font-weight: bold;display: inline-block;line-height: 1.2em;}#sk-container-id-5 div.sk-label-container {text-align: center;}#sk-container-id-5 div.sk-container {/* jupyter's `normalize.less` sets `[hidden] { display: none; }` but bootstrap.min.css set `[hidden] { display: none !important; }` so we also need the `!important` here to be able to override the default hidden behavior on the sphinx rendered scikit-learn.org. See: https://github.com/scikit-learn/scikit-learn/issues/21755 */display: inline-block !important;position: relative;}#sk-container-id-5 div.sk-text-repr-fallback {display: none;}</style><div id=\"sk-container-id-5\" class=\"sk-top-container\"><div class=\"sk-text-repr-fallback\"><pre>KNeighborsClassifier()</pre><b>In a Jupyter environment, please rerun this cell to show the HTML representation or trust the notebook. <br />On GitHub, the HTML representation is unable to render, please try loading this page with nbviewer.org.</b></div><div class=\"sk-container\" hidden><div class=\"sk-item\"><div class=\"sk-estimator sk-toggleable\"><input class=\"sk-toggleable__control sk-hidden--visually\" id=\"sk-estimator-id-5\" type=\"checkbox\" checked><label for=\"sk-estimator-id-5\" class=\"sk-toggleable__label sk-toggleable__label-arrow\">KNeighborsClassifier</label><div class=\"sk-toggleable__content\"><pre>KNeighborsClassifier()</pre></div></div></div></div></div>"
      ],
      "text/plain": [
       "KNeighborsClassifier()"
      ]
     },
     "execution_count": 88,
     "metadata": {},
     "output_type": "execute_result"
    }
   ],
   "source": [
    "knn4.fit(X_train5, y_train5)"
   ]
  },
  {
   "cell_type": "code",
   "execution_count": 89,
   "id": "649a3f60-97ed-42c7-a698-7f9513002ef5",
   "metadata": {},
   "outputs": [],
   "source": [
    "y_pred1 = knn4.predict(X_train5)"
   ]
  },
  {
   "cell_type": "code",
   "execution_count": 90,
   "id": "781e1b53-a6ff-4760-86d9-a7d6c8d57244",
   "metadata": {},
   "outputs": [],
   "source": [
    "y_pred_proba = knn4.predict_proba(X_train5)"
   ]
  },
  {
   "cell_type": "code",
   "execution_count": 91,
   "id": "7c242da7-8501-41ce-a436-c34dbd69dbe3",
   "metadata": {
    "tags": []
   },
   "outputs": [
    {
     "name": "stdout",
     "output_type": "stream",
     "text": [
      "Accuracy of KNN classifier on training set: 0.61\n",
      "Accuracy of KNN classifier on validate set: 0.61\n"
     ]
    }
   ],
   "source": [
    "print('Accuracy of KNN classifier on training set: {:.2f}'\n",
    "     .format(knn4.score(X_train5, y_train5)))\n",
    "print('Accuracy of KNN classifier on validate set: {:.2f}'\n",
    "     .format(knn4.score(X_validate5, y_validate5)))"
   ]
  },
  {
   "cell_type": "markdown",
   "id": "ec2d3e7a-85af-462f-9d11-b31100e379b0",
   "metadata": {
    "tags": []
   },
   "source": [
    "> <h2><b>Random Forest"
   ]
  },
  {
   "cell_type": "markdown",
   "id": "31fcbd87-3e4f-4a0b-b404-3373eddb5242",
   "metadata": {},
   "source": [
    "<h4><b>Top 10 Correlation Features"
   ]
  },
  {
   "cell_type": "code",
   "execution_count": 98,
   "id": "fe19466f-88a7-4f0a-b7cb-784155fd8165",
   "metadata": {},
   "outputs": [],
   "source": [
    "rf1 = RandomForestClassifier(bootstrap=True, \n",
    "                            class_weight=None, \n",
    "                            criterion='gini',\n",
    "                            min_samples_leaf=3,\n",
    "                            n_estimators=100,\n",
    "                            max_depth=7, \n",
    "                            random_state=123)"
   ]
  },
  {
   "cell_type": "code",
   "execution_count": 99,
   "id": "8d542f48-a09a-4a88-809b-7100dd8cf651",
   "metadata": {},
   "outputs": [
    {
     "data": {
      "text/html": [
       "<style>#sk-container-id-7 {color: black;background-color: white;}#sk-container-id-7 pre{padding: 0;}#sk-container-id-7 div.sk-toggleable {background-color: white;}#sk-container-id-7 label.sk-toggleable__label {cursor: pointer;display: block;width: 100%;margin-bottom: 0;padding: 0.3em;box-sizing: border-box;text-align: center;}#sk-container-id-7 label.sk-toggleable__label-arrow:before {content: \"▸\";float: left;margin-right: 0.25em;color: #696969;}#sk-container-id-7 label.sk-toggleable__label-arrow:hover:before {color: black;}#sk-container-id-7 div.sk-estimator:hover label.sk-toggleable__label-arrow:before {color: black;}#sk-container-id-7 div.sk-toggleable__content {max-height: 0;max-width: 0;overflow: hidden;text-align: left;background-color: #f0f8ff;}#sk-container-id-7 div.sk-toggleable__content pre {margin: 0.2em;color: black;border-radius: 0.25em;background-color: #f0f8ff;}#sk-container-id-7 input.sk-toggleable__control:checked~div.sk-toggleable__content {max-height: 200px;max-width: 100%;overflow: auto;}#sk-container-id-7 input.sk-toggleable__control:checked~label.sk-toggleable__label-arrow:before {content: \"▾\";}#sk-container-id-7 div.sk-estimator input.sk-toggleable__control:checked~label.sk-toggleable__label {background-color: #d4ebff;}#sk-container-id-7 div.sk-label input.sk-toggleable__control:checked~label.sk-toggleable__label {background-color: #d4ebff;}#sk-container-id-7 input.sk-hidden--visually {border: 0;clip: rect(1px 1px 1px 1px);clip: rect(1px, 1px, 1px, 1px);height: 1px;margin: -1px;overflow: hidden;padding: 0;position: absolute;width: 1px;}#sk-container-id-7 div.sk-estimator {font-family: monospace;background-color: #f0f8ff;border: 1px dotted black;border-radius: 0.25em;box-sizing: border-box;margin-bottom: 0.5em;}#sk-container-id-7 div.sk-estimator:hover {background-color: #d4ebff;}#sk-container-id-7 div.sk-parallel-item::after {content: \"\";width: 100%;border-bottom: 1px solid gray;flex-grow: 1;}#sk-container-id-7 div.sk-label:hover label.sk-toggleable__label {background-color: #d4ebff;}#sk-container-id-7 div.sk-serial::before {content: \"\";position: absolute;border-left: 1px solid gray;box-sizing: border-box;top: 0;bottom: 0;left: 50%;z-index: 0;}#sk-container-id-7 div.sk-serial {display: flex;flex-direction: column;align-items: center;background-color: white;padding-right: 0.2em;padding-left: 0.2em;position: relative;}#sk-container-id-7 div.sk-item {position: relative;z-index: 1;}#sk-container-id-7 div.sk-parallel {display: flex;align-items: stretch;justify-content: center;background-color: white;position: relative;}#sk-container-id-7 div.sk-item::before, #sk-container-id-7 div.sk-parallel-item::before {content: \"\";position: absolute;border-left: 1px solid gray;box-sizing: border-box;top: 0;bottom: 0;left: 50%;z-index: -1;}#sk-container-id-7 div.sk-parallel-item {display: flex;flex-direction: column;z-index: 1;position: relative;background-color: white;}#sk-container-id-7 div.sk-parallel-item:first-child::after {align-self: flex-end;width: 50%;}#sk-container-id-7 div.sk-parallel-item:last-child::after {align-self: flex-start;width: 50%;}#sk-container-id-7 div.sk-parallel-item:only-child::after {width: 0;}#sk-container-id-7 div.sk-dashed-wrapped {border: 1px dashed gray;margin: 0 0.4em 0.5em 0.4em;box-sizing: border-box;padding-bottom: 0.4em;background-color: white;}#sk-container-id-7 div.sk-label label {font-family: monospace;font-weight: bold;display: inline-block;line-height: 1.2em;}#sk-container-id-7 div.sk-label-container {text-align: center;}#sk-container-id-7 div.sk-container {/* jupyter's `normalize.less` sets `[hidden] { display: none; }` but bootstrap.min.css set `[hidden] { display: none !important; }` so we also need the `!important` here to be able to override the default hidden behavior on the sphinx rendered scikit-learn.org. See: https://github.com/scikit-learn/scikit-learn/issues/21755 */display: inline-block !important;position: relative;}#sk-container-id-7 div.sk-text-repr-fallback {display: none;}</style><div id=\"sk-container-id-7\" class=\"sk-top-container\"><div class=\"sk-text-repr-fallback\"><pre>RandomForestClassifier(max_depth=7, min_samples_leaf=3, random_state=123)</pre><b>In a Jupyter environment, please rerun this cell to show the HTML representation or trust the notebook. <br />On GitHub, the HTML representation is unable to render, please try loading this page with nbviewer.org.</b></div><div class=\"sk-container\" hidden><div class=\"sk-item\"><div class=\"sk-estimator sk-toggleable\"><input class=\"sk-toggleable__control sk-hidden--visually\" id=\"sk-estimator-id-7\" type=\"checkbox\" checked><label for=\"sk-estimator-id-7\" class=\"sk-toggleable__label sk-toggleable__label-arrow\">RandomForestClassifier</label><div class=\"sk-toggleable__content\"><pre>RandomForestClassifier(max_depth=7, min_samples_leaf=3, random_state=123)</pre></div></div></div></div></div>"
      ],
      "text/plain": [
       "RandomForestClassifier(max_depth=7, min_samples_leaf=3, random_state=123)"
      ]
     },
     "execution_count": 99,
     "metadata": {},
     "output_type": "execute_result"
    }
   ],
   "source": [
    "rf1.fit(X_train2, y_train2)"
   ]
  },
  {
   "cell_type": "code",
   "execution_count": 100,
   "id": "a0685967-26a1-44f1-af9f-ddece9c6393a",
   "metadata": {},
   "outputs": [
    {
     "name": "stdout",
     "output_type": "stream",
     "text": [
      "[0.25316276 0.16547026 0.37594088 0.03668024 0.02845953 0.03924768\n",
      " 0.02342682 0.03190432 0.0328606  0.0128469 ]\n"
     ]
    }
   ],
   "source": [
    "print(rf1.feature_importances_)"
   ]
  },
  {
   "cell_type": "code",
   "execution_count": 101,
   "id": "70066c9b-2e9b-42b0-9af5-26e88c1b254a",
   "metadata": {},
   "outputs": [],
   "source": [
    "y_pred = rf1.predict(X_train2)"
   ]
  },
  {
   "cell_type": "code",
   "execution_count": 102,
   "id": "20297638-af3c-4c46-92b3-2d4aad6b08f8",
   "metadata": {},
   "outputs": [],
   "source": [
    "y_pred_proba = rf1.predict_proba(X_train2)"
   ]
  },
  {
   "cell_type": "code",
   "execution_count": 103,
   "id": "cd66ef46-4618-47fc-9683-ce3833851bc2",
   "metadata": {},
   "outputs": [
    {
     "name": "stdout",
     "output_type": "stream",
     "text": [
      "Accuracy of random forest classifier on training set: 0.80\n",
      "Accuracy of random forest classifier on validate set: 0.76\n"
     ]
    }
   ],
   "source": [
    "print('Accuracy of random forest classifier on training set: {:.2f}'\n",
    "     .format(rf1.score(X_train2, y_train2)))\n",
    "print('Accuracy of random forest classifier on validate set: {:.2f}'\n",
    "     .format(rf1.score(X_validate2, y_validate2)))"
   ]
  },
  {
   "cell_type": "markdown",
   "id": "62ccb4e3-e938-4fef-89d6-70c1bc2647ed",
   "metadata": {},
   "source": [
    "<h4><b>Top 5 Correlation Features"
   ]
  },
  {
   "cell_type": "code",
   "execution_count": 104,
   "id": "9dc0f336-c1c9-46d0-82db-20fc48f0a660",
   "metadata": {},
   "outputs": [],
   "source": [
    "rf2 = RandomForestClassifier(bootstrap=True, \n",
    "                            class_weight=None, \n",
    "                            criterion='gini',\n",
    "                            min_samples_leaf=3,\n",
    "                            n_estimators=100,\n",
    "                            max_depth=7, \n",
    "                            random_state=123)"
   ]
  },
  {
   "cell_type": "code",
   "execution_count": 105,
   "id": "b9dbc35d-03a6-4c25-a770-cf3bc9f7c715",
   "metadata": {},
   "outputs": [
    {
     "data": {
      "text/html": [
       "<style>#sk-container-id-8 {color: black;background-color: white;}#sk-container-id-8 pre{padding: 0;}#sk-container-id-8 div.sk-toggleable {background-color: white;}#sk-container-id-8 label.sk-toggleable__label {cursor: pointer;display: block;width: 100%;margin-bottom: 0;padding: 0.3em;box-sizing: border-box;text-align: center;}#sk-container-id-8 label.sk-toggleable__label-arrow:before {content: \"▸\";float: left;margin-right: 0.25em;color: #696969;}#sk-container-id-8 label.sk-toggleable__label-arrow:hover:before {color: black;}#sk-container-id-8 div.sk-estimator:hover label.sk-toggleable__label-arrow:before {color: black;}#sk-container-id-8 div.sk-toggleable__content {max-height: 0;max-width: 0;overflow: hidden;text-align: left;background-color: #f0f8ff;}#sk-container-id-8 div.sk-toggleable__content pre {margin: 0.2em;color: black;border-radius: 0.25em;background-color: #f0f8ff;}#sk-container-id-8 input.sk-toggleable__control:checked~div.sk-toggleable__content {max-height: 200px;max-width: 100%;overflow: auto;}#sk-container-id-8 input.sk-toggleable__control:checked~label.sk-toggleable__label-arrow:before {content: \"▾\";}#sk-container-id-8 div.sk-estimator input.sk-toggleable__control:checked~label.sk-toggleable__label {background-color: #d4ebff;}#sk-container-id-8 div.sk-label input.sk-toggleable__control:checked~label.sk-toggleable__label {background-color: #d4ebff;}#sk-container-id-8 input.sk-hidden--visually {border: 0;clip: rect(1px 1px 1px 1px);clip: rect(1px, 1px, 1px, 1px);height: 1px;margin: -1px;overflow: hidden;padding: 0;position: absolute;width: 1px;}#sk-container-id-8 div.sk-estimator {font-family: monospace;background-color: #f0f8ff;border: 1px dotted black;border-radius: 0.25em;box-sizing: border-box;margin-bottom: 0.5em;}#sk-container-id-8 div.sk-estimator:hover {background-color: #d4ebff;}#sk-container-id-8 div.sk-parallel-item::after {content: \"\";width: 100%;border-bottom: 1px solid gray;flex-grow: 1;}#sk-container-id-8 div.sk-label:hover label.sk-toggleable__label {background-color: #d4ebff;}#sk-container-id-8 div.sk-serial::before {content: \"\";position: absolute;border-left: 1px solid gray;box-sizing: border-box;top: 0;bottom: 0;left: 50%;z-index: 0;}#sk-container-id-8 div.sk-serial {display: flex;flex-direction: column;align-items: center;background-color: white;padding-right: 0.2em;padding-left: 0.2em;position: relative;}#sk-container-id-8 div.sk-item {position: relative;z-index: 1;}#sk-container-id-8 div.sk-parallel {display: flex;align-items: stretch;justify-content: center;background-color: white;position: relative;}#sk-container-id-8 div.sk-item::before, #sk-container-id-8 div.sk-parallel-item::before {content: \"\";position: absolute;border-left: 1px solid gray;box-sizing: border-box;top: 0;bottom: 0;left: 50%;z-index: -1;}#sk-container-id-8 div.sk-parallel-item {display: flex;flex-direction: column;z-index: 1;position: relative;background-color: white;}#sk-container-id-8 div.sk-parallel-item:first-child::after {align-self: flex-end;width: 50%;}#sk-container-id-8 div.sk-parallel-item:last-child::after {align-self: flex-start;width: 50%;}#sk-container-id-8 div.sk-parallel-item:only-child::after {width: 0;}#sk-container-id-8 div.sk-dashed-wrapped {border: 1px dashed gray;margin: 0 0.4em 0.5em 0.4em;box-sizing: border-box;padding-bottom: 0.4em;background-color: white;}#sk-container-id-8 div.sk-label label {font-family: monospace;font-weight: bold;display: inline-block;line-height: 1.2em;}#sk-container-id-8 div.sk-label-container {text-align: center;}#sk-container-id-8 div.sk-container {/* jupyter's `normalize.less` sets `[hidden] { display: none; }` but bootstrap.min.css set `[hidden] { display: none !important; }` so we also need the `!important` here to be able to override the default hidden behavior on the sphinx rendered scikit-learn.org. See: https://github.com/scikit-learn/scikit-learn/issues/21755 */display: inline-block !important;position: relative;}#sk-container-id-8 div.sk-text-repr-fallback {display: none;}</style><div id=\"sk-container-id-8\" class=\"sk-top-container\"><div class=\"sk-text-repr-fallback\"><pre>RandomForestClassifier(max_depth=7, min_samples_leaf=3, random_state=123)</pre><b>In a Jupyter environment, please rerun this cell to show the HTML representation or trust the notebook. <br />On GitHub, the HTML representation is unable to render, please try loading this page with nbviewer.org.</b></div><div class=\"sk-container\" hidden><div class=\"sk-item\"><div class=\"sk-estimator sk-toggleable\"><input class=\"sk-toggleable__control sk-hidden--visually\" id=\"sk-estimator-id-8\" type=\"checkbox\" checked><label for=\"sk-estimator-id-8\" class=\"sk-toggleable__label sk-toggleable__label-arrow\">RandomForestClassifier</label><div class=\"sk-toggleable__content\"><pre>RandomForestClassifier(max_depth=7, min_samples_leaf=3, random_state=123)</pre></div></div></div></div></div>"
      ],
      "text/plain": [
       "RandomForestClassifier(max_depth=7, min_samples_leaf=3, random_state=123)"
      ]
     },
     "execution_count": 105,
     "metadata": {},
     "output_type": "execute_result"
    }
   ],
   "source": [
    "rf2.fit(X_train3, y_train3)"
   ]
  },
  {
   "cell_type": "code",
   "execution_count": 106,
   "id": "e70fde26-03d5-489c-b5b5-badf592c106c",
   "metadata": {},
   "outputs": [
    {
     "name": "stdout",
     "output_type": "stream",
     "text": [
      "[0.22428246 0.17875816 0.54789925 0.0213155  0.02774464]\n"
     ]
    }
   ],
   "source": [
    "print(rf2.feature_importances_)"
   ]
  },
  {
   "cell_type": "code",
   "execution_count": 107,
   "id": "0c78ccbf-ef2b-4e2e-91b0-a17867667a13",
   "metadata": {},
   "outputs": [],
   "source": [
    "y_pred = rf2.predict(X_train3)"
   ]
  },
  {
   "cell_type": "code",
   "execution_count": 108,
   "id": "840508e4-544e-4614-8c1b-c9528030501b",
   "metadata": {},
   "outputs": [],
   "source": [
    "y_pred_proba = rf2.predict_proba(X_train3)"
   ]
  },
  {
   "cell_type": "code",
   "execution_count": 109,
   "id": "1027fa75-b726-449a-a587-bd25f979b769",
   "metadata": {
    "tags": []
   },
   "outputs": [
    {
     "name": "stdout",
     "output_type": "stream",
     "text": [
      "Accuracy of random forest classifier on training set: 0.79\n",
      "Accuracy of random forest classifier on validate set: 0.75\n"
     ]
    }
   ],
   "source": [
    "print('Accuracy of random forest classifier on training set: {:.2f}'\n",
    "     .format(rf2.score(X_train3, y_train3)))\n",
    "print('Accuracy of random forest classifier on validate set: {:.2f}'\n",
    "     .format(rf2.score(X_validate3, y_validate3)))"
   ]
  },
  {
   "cell_type": "markdown",
   "id": "fee2d321-3c36-442e-9e2c-e756822e61d8",
   "metadata": {},
   "source": [
    "<h4><b>Top 5 SelectK Best Features"
   ]
  },
  {
   "cell_type": "code",
   "execution_count": 111,
   "id": "d4c2bbd0-ed87-4c78-a149-a9fe8f6c2f59",
   "metadata": {},
   "outputs": [],
   "source": [
    "rf3 = RandomForestClassifier(bootstrap=True, \n",
    "                            class_weight=None, \n",
    "                            criterion='gini',\n",
    "                            min_samples_leaf=3,\n",
    "                            n_estimators=100,\n",
    "                            max_depth=7, \n",
    "                            random_state=123)"
   ]
  },
  {
   "cell_type": "code",
   "execution_count": 112,
   "id": "83de4224-4bec-43ad-8698-335fef273350",
   "metadata": {},
   "outputs": [
    {
     "data": {
      "text/html": [
       "<style>#sk-container-id-9 {color: black;background-color: white;}#sk-container-id-9 pre{padding: 0;}#sk-container-id-9 div.sk-toggleable {background-color: white;}#sk-container-id-9 label.sk-toggleable__label {cursor: pointer;display: block;width: 100%;margin-bottom: 0;padding: 0.3em;box-sizing: border-box;text-align: center;}#sk-container-id-9 label.sk-toggleable__label-arrow:before {content: \"▸\";float: left;margin-right: 0.25em;color: #696969;}#sk-container-id-9 label.sk-toggleable__label-arrow:hover:before {color: black;}#sk-container-id-9 div.sk-estimator:hover label.sk-toggleable__label-arrow:before {color: black;}#sk-container-id-9 div.sk-toggleable__content {max-height: 0;max-width: 0;overflow: hidden;text-align: left;background-color: #f0f8ff;}#sk-container-id-9 div.sk-toggleable__content pre {margin: 0.2em;color: black;border-radius: 0.25em;background-color: #f0f8ff;}#sk-container-id-9 input.sk-toggleable__control:checked~div.sk-toggleable__content {max-height: 200px;max-width: 100%;overflow: auto;}#sk-container-id-9 input.sk-toggleable__control:checked~label.sk-toggleable__label-arrow:before {content: \"▾\";}#sk-container-id-9 div.sk-estimator input.sk-toggleable__control:checked~label.sk-toggleable__label {background-color: #d4ebff;}#sk-container-id-9 div.sk-label input.sk-toggleable__control:checked~label.sk-toggleable__label {background-color: #d4ebff;}#sk-container-id-9 input.sk-hidden--visually {border: 0;clip: rect(1px 1px 1px 1px);clip: rect(1px, 1px, 1px, 1px);height: 1px;margin: -1px;overflow: hidden;padding: 0;position: absolute;width: 1px;}#sk-container-id-9 div.sk-estimator {font-family: monospace;background-color: #f0f8ff;border: 1px dotted black;border-radius: 0.25em;box-sizing: border-box;margin-bottom: 0.5em;}#sk-container-id-9 div.sk-estimator:hover {background-color: #d4ebff;}#sk-container-id-9 div.sk-parallel-item::after {content: \"\";width: 100%;border-bottom: 1px solid gray;flex-grow: 1;}#sk-container-id-9 div.sk-label:hover label.sk-toggleable__label {background-color: #d4ebff;}#sk-container-id-9 div.sk-serial::before {content: \"\";position: absolute;border-left: 1px solid gray;box-sizing: border-box;top: 0;bottom: 0;left: 50%;z-index: 0;}#sk-container-id-9 div.sk-serial {display: flex;flex-direction: column;align-items: center;background-color: white;padding-right: 0.2em;padding-left: 0.2em;position: relative;}#sk-container-id-9 div.sk-item {position: relative;z-index: 1;}#sk-container-id-9 div.sk-parallel {display: flex;align-items: stretch;justify-content: center;background-color: white;position: relative;}#sk-container-id-9 div.sk-item::before, #sk-container-id-9 div.sk-parallel-item::before {content: \"\";position: absolute;border-left: 1px solid gray;box-sizing: border-box;top: 0;bottom: 0;left: 50%;z-index: -1;}#sk-container-id-9 div.sk-parallel-item {display: flex;flex-direction: column;z-index: 1;position: relative;background-color: white;}#sk-container-id-9 div.sk-parallel-item:first-child::after {align-self: flex-end;width: 50%;}#sk-container-id-9 div.sk-parallel-item:last-child::after {align-self: flex-start;width: 50%;}#sk-container-id-9 div.sk-parallel-item:only-child::after {width: 0;}#sk-container-id-9 div.sk-dashed-wrapped {border: 1px dashed gray;margin: 0 0.4em 0.5em 0.4em;box-sizing: border-box;padding-bottom: 0.4em;background-color: white;}#sk-container-id-9 div.sk-label label {font-family: monospace;font-weight: bold;display: inline-block;line-height: 1.2em;}#sk-container-id-9 div.sk-label-container {text-align: center;}#sk-container-id-9 div.sk-container {/* jupyter's `normalize.less` sets `[hidden] { display: none; }` but bootstrap.min.css set `[hidden] { display: none !important; }` so we also need the `!important` here to be able to override the default hidden behavior on the sphinx rendered scikit-learn.org. See: https://github.com/scikit-learn/scikit-learn/issues/21755 */display: inline-block !important;position: relative;}#sk-container-id-9 div.sk-text-repr-fallback {display: none;}</style><div id=\"sk-container-id-9\" class=\"sk-top-container\"><div class=\"sk-text-repr-fallback\"><pre>RandomForestClassifier(max_depth=7, min_samples_leaf=3, random_state=123)</pre><b>In a Jupyter environment, please rerun this cell to show the HTML representation or trust the notebook. <br />On GitHub, the HTML representation is unable to render, please try loading this page with nbviewer.org.</b></div><div class=\"sk-container\" hidden><div class=\"sk-item\"><div class=\"sk-estimator sk-toggleable\"><input class=\"sk-toggleable__control sk-hidden--visually\" id=\"sk-estimator-id-9\" type=\"checkbox\" checked><label for=\"sk-estimator-id-9\" class=\"sk-toggleable__label sk-toggleable__label-arrow\">RandomForestClassifier</label><div class=\"sk-toggleable__content\"><pre>RandomForestClassifier(max_depth=7, min_samples_leaf=3, random_state=123)</pre></div></div></div></div></div>"
      ],
      "text/plain": [
       "RandomForestClassifier(max_depth=7, min_samples_leaf=3, random_state=123)"
      ]
     },
     "execution_count": 112,
     "metadata": {},
     "output_type": "execute_result"
    }
   ],
   "source": [
    "rf3.fit(X_train4, y_train4)"
   ]
  },
  {
   "cell_type": "code",
   "execution_count": 113,
   "id": "27fcbf50-6bf0-46df-aa0b-2e46afe24435",
   "metadata": {},
   "outputs": [
    {
     "name": "stdout",
     "output_type": "stream",
     "text": [
      "[0.49379895 0.11985324 0.25117791 0.05290139 0.08226851]\n"
     ]
    }
   ],
   "source": [
    "print(rf3.feature_importances_)"
   ]
  },
  {
   "cell_type": "code",
   "execution_count": 114,
   "id": "13dde871-c44a-446d-a872-5f70cd78cb19",
   "metadata": {},
   "outputs": [],
   "source": [
    "y_pred = rf3.predict(X_train4)"
   ]
  },
  {
   "cell_type": "code",
   "execution_count": 115,
   "id": "951466b4-c25b-4e17-8fa0-7595c91393b6",
   "metadata": {},
   "outputs": [],
   "source": [
    "y_pred_proba = rf3.predict_proba(X_train4)"
   ]
  },
  {
   "cell_type": "code",
   "execution_count": 116,
   "id": "b578adb3-dda3-4180-8174-7e807e05838c",
   "metadata": {},
   "outputs": [
    {
     "name": "stdout",
     "output_type": "stream",
     "text": [
      "Accuracy of random forest classifier on training set: 0.81\n",
      "Accuracy of random forest classifier on validate set: 0.78\n"
     ]
    }
   ],
   "source": [
    "print('Accuracy of random forest classifier on training set: {:.2f}'\n",
    "     .format(rf3.score(X_train4, y_train4)))\n",
    "print('Accuracy of random forest classifier on validate set: {:.2f}'\n",
    "     .format(rf3.score(X_validate4, y_validate4)))"
   ]
  },
  {
   "cell_type": "markdown",
   "id": "2a8b1554-4c33-4b92-ad00-b1b01f317a2a",
   "metadata": {},
   "source": [
    "<h4><b>Top 5 RFE Features"
   ]
  },
  {
   "cell_type": "code",
   "execution_count": 117,
   "id": "e5facf91-c4e3-4a47-96c8-0064403dcbc6",
   "metadata": {},
   "outputs": [],
   "source": [
    "rf4 = RandomForestClassifier(bootstrap=True, \n",
    "                            class_weight=None, \n",
    "                            criterion='gini',\n",
    "                            min_samples_leaf=3,\n",
    "                            n_estimators=100,\n",
    "                            max_depth=7, \n",
    "                            random_state=123)"
   ]
  },
  {
   "cell_type": "code",
   "execution_count": 118,
   "id": "ec3dcc17-65fd-4c22-978f-27da44763d21",
   "metadata": {},
   "outputs": [
    {
     "data": {
      "text/html": [
       "<style>#sk-container-id-10 {color: black;background-color: white;}#sk-container-id-10 pre{padding: 0;}#sk-container-id-10 div.sk-toggleable {background-color: white;}#sk-container-id-10 label.sk-toggleable__label {cursor: pointer;display: block;width: 100%;margin-bottom: 0;padding: 0.3em;box-sizing: border-box;text-align: center;}#sk-container-id-10 label.sk-toggleable__label-arrow:before {content: \"▸\";float: left;margin-right: 0.25em;color: #696969;}#sk-container-id-10 label.sk-toggleable__label-arrow:hover:before {color: black;}#sk-container-id-10 div.sk-estimator:hover label.sk-toggleable__label-arrow:before {color: black;}#sk-container-id-10 div.sk-toggleable__content {max-height: 0;max-width: 0;overflow: hidden;text-align: left;background-color: #f0f8ff;}#sk-container-id-10 div.sk-toggleable__content pre {margin: 0.2em;color: black;border-radius: 0.25em;background-color: #f0f8ff;}#sk-container-id-10 input.sk-toggleable__control:checked~div.sk-toggleable__content {max-height: 200px;max-width: 100%;overflow: auto;}#sk-container-id-10 input.sk-toggleable__control:checked~label.sk-toggleable__label-arrow:before {content: \"▾\";}#sk-container-id-10 div.sk-estimator input.sk-toggleable__control:checked~label.sk-toggleable__label {background-color: #d4ebff;}#sk-container-id-10 div.sk-label input.sk-toggleable__control:checked~label.sk-toggleable__label {background-color: #d4ebff;}#sk-container-id-10 input.sk-hidden--visually {border: 0;clip: rect(1px 1px 1px 1px);clip: rect(1px, 1px, 1px, 1px);height: 1px;margin: -1px;overflow: hidden;padding: 0;position: absolute;width: 1px;}#sk-container-id-10 div.sk-estimator {font-family: monospace;background-color: #f0f8ff;border: 1px dotted black;border-radius: 0.25em;box-sizing: border-box;margin-bottom: 0.5em;}#sk-container-id-10 div.sk-estimator:hover {background-color: #d4ebff;}#sk-container-id-10 div.sk-parallel-item::after {content: \"\";width: 100%;border-bottom: 1px solid gray;flex-grow: 1;}#sk-container-id-10 div.sk-label:hover label.sk-toggleable__label {background-color: #d4ebff;}#sk-container-id-10 div.sk-serial::before {content: \"\";position: absolute;border-left: 1px solid gray;box-sizing: border-box;top: 0;bottom: 0;left: 50%;z-index: 0;}#sk-container-id-10 div.sk-serial {display: flex;flex-direction: column;align-items: center;background-color: white;padding-right: 0.2em;padding-left: 0.2em;position: relative;}#sk-container-id-10 div.sk-item {position: relative;z-index: 1;}#sk-container-id-10 div.sk-parallel {display: flex;align-items: stretch;justify-content: center;background-color: white;position: relative;}#sk-container-id-10 div.sk-item::before, #sk-container-id-10 div.sk-parallel-item::before {content: \"\";position: absolute;border-left: 1px solid gray;box-sizing: border-box;top: 0;bottom: 0;left: 50%;z-index: -1;}#sk-container-id-10 div.sk-parallel-item {display: flex;flex-direction: column;z-index: 1;position: relative;background-color: white;}#sk-container-id-10 div.sk-parallel-item:first-child::after {align-self: flex-end;width: 50%;}#sk-container-id-10 div.sk-parallel-item:last-child::after {align-self: flex-start;width: 50%;}#sk-container-id-10 div.sk-parallel-item:only-child::after {width: 0;}#sk-container-id-10 div.sk-dashed-wrapped {border: 1px dashed gray;margin: 0 0.4em 0.5em 0.4em;box-sizing: border-box;padding-bottom: 0.4em;background-color: white;}#sk-container-id-10 div.sk-label label {font-family: monospace;font-weight: bold;display: inline-block;line-height: 1.2em;}#sk-container-id-10 div.sk-label-container {text-align: center;}#sk-container-id-10 div.sk-container {/* jupyter's `normalize.less` sets `[hidden] { display: none; }` but bootstrap.min.css set `[hidden] { display: none !important; }` so we also need the `!important` here to be able to override the default hidden behavior on the sphinx rendered scikit-learn.org. See: https://github.com/scikit-learn/scikit-learn/issues/21755 */display: inline-block !important;position: relative;}#sk-container-id-10 div.sk-text-repr-fallback {display: none;}</style><div id=\"sk-container-id-10\" class=\"sk-top-container\"><div class=\"sk-text-repr-fallback\"><pre>RandomForestClassifier(max_depth=7, min_samples_leaf=3, random_state=123)</pre><b>In a Jupyter environment, please rerun this cell to show the HTML representation or trust the notebook. <br />On GitHub, the HTML representation is unable to render, please try loading this page with nbviewer.org.</b></div><div class=\"sk-container\" hidden><div class=\"sk-item\"><div class=\"sk-estimator sk-toggleable\"><input class=\"sk-toggleable__control sk-hidden--visually\" id=\"sk-estimator-id-10\" type=\"checkbox\" checked><label for=\"sk-estimator-id-10\" class=\"sk-toggleable__label sk-toggleable__label-arrow\">RandomForestClassifier</label><div class=\"sk-toggleable__content\"><pre>RandomForestClassifier(max_depth=7, min_samples_leaf=3, random_state=123)</pre></div></div></div></div></div>"
      ],
      "text/plain": [
       "RandomForestClassifier(max_depth=7, min_samples_leaf=3, random_state=123)"
      ]
     },
     "execution_count": 118,
     "metadata": {},
     "output_type": "execute_result"
    }
   ],
   "source": [
    "rf4.fit(X_train5, y_train5)"
   ]
  },
  {
   "cell_type": "code",
   "execution_count": 119,
   "id": "bee6efca-cd77-4fe6-9823-556632578f35",
   "metadata": {},
   "outputs": [
    {
     "name": "stdout",
     "output_type": "stream",
     "text": [
      "[0.12985691 0.04802041 0.15348593 0.31848735 0.3501494 ]\n"
     ]
    }
   ],
   "source": [
    "print(rf4.feature_importances_)"
   ]
  },
  {
   "cell_type": "code",
   "execution_count": 120,
   "id": "4874fbc1-4bc9-4e29-a182-2dc1e9f2334b",
   "metadata": {},
   "outputs": [],
   "source": [
    "y_pred = rf4.predict(X_train5)"
   ]
  },
  {
   "cell_type": "code",
   "execution_count": 121,
   "id": "7f6c45c5-9264-43a9-a2f0-f9ca1a7289bc",
   "metadata": {},
   "outputs": [],
   "source": [
    "y_pred_proba = rf4.predict_proba(X_train5)"
   ]
  },
  {
   "cell_type": "code",
   "execution_count": 122,
   "id": "40cbed6e-ac9e-4109-a3a9-2123d5d60666",
   "metadata": {
    "tags": []
   },
   "outputs": [
    {
     "name": "stdout",
     "output_type": "stream",
     "text": [
      "Accuracy of random forest classifier on training set: 0.73\n",
      "Accuracy of random forest classifier on validate set: 0.73\n"
     ]
    }
   ],
   "source": [
    "print('Accuracy of random forest classifier on training set: {:.2f}'\n",
    "     .format(rf4.score(X_train5, y_train5)))\n",
    "print('Accuracy of random forest classifier on validate set: {:.2f}'\n",
    "     .format(rf4.score(X_validate5, y_validate5)))"
   ]
  },
  {
   "cell_type": "markdown",
   "id": "7e07285f-28e8-462d-89e3-2b96c9cf5c0d",
   "metadata": {},
   "source": [
    "<h1>Best Model on Test Data"
   ]
  },
  {
   "cell_type": "markdown",
   "id": "5583bfbd-70d8-454d-ab40-b8fd7a87411c",
   "metadata": {},
   "source": [
    "<b><h2>The Best Model was Random Forest using SelectK Best Top 5 features"
   ]
  },
  {
   "cell_type": "markdown",
   "id": "b501c61c-e782-4d3d-8383-032d180d3575",
   "metadata": {},
   "source": [
    "> Features Selected were: <b>tenure_scaled</b>, <b>contract_type_Two year</b>, <b>internet_service_type_Fiber optic</b>, <b>internet_service_type_None</b>, <b>payment_type_Electronic check</b>"
   ]
  },
  {
   "cell_type": "code",
   "execution_count": 123,
   "id": "9edb3d76-6458-4e10-bf8c-8a6031a066ae",
   "metadata": {
    "tags": []
   },
   "outputs": [],
   "source": [
    "rf5 = RandomForestClassifier(bootstrap=True, \n",
    "                            class_weight=None, \n",
    "                            criterion='gini',\n",
    "                            min_samples_leaf=3,\n",
    "                            n_estimators=100,\n",
    "                            max_depth=7, \n",
    "                            random_state=123)"
   ]
  },
  {
   "cell_type": "code",
   "execution_count": 124,
   "id": "8c7cf9dd-e205-4f0b-9cfb-e7751eac1796",
   "metadata": {},
   "outputs": [
    {
     "data": {
      "text/html": [
       "<style>#sk-container-id-11 {color: black;background-color: white;}#sk-container-id-11 pre{padding: 0;}#sk-container-id-11 div.sk-toggleable {background-color: white;}#sk-container-id-11 label.sk-toggleable__label {cursor: pointer;display: block;width: 100%;margin-bottom: 0;padding: 0.3em;box-sizing: border-box;text-align: center;}#sk-container-id-11 label.sk-toggleable__label-arrow:before {content: \"▸\";float: left;margin-right: 0.25em;color: #696969;}#sk-container-id-11 label.sk-toggleable__label-arrow:hover:before {color: black;}#sk-container-id-11 div.sk-estimator:hover label.sk-toggleable__label-arrow:before {color: black;}#sk-container-id-11 div.sk-toggleable__content {max-height: 0;max-width: 0;overflow: hidden;text-align: left;background-color: #f0f8ff;}#sk-container-id-11 div.sk-toggleable__content pre {margin: 0.2em;color: black;border-radius: 0.25em;background-color: #f0f8ff;}#sk-container-id-11 input.sk-toggleable__control:checked~div.sk-toggleable__content {max-height: 200px;max-width: 100%;overflow: auto;}#sk-container-id-11 input.sk-toggleable__control:checked~label.sk-toggleable__label-arrow:before {content: \"▾\";}#sk-container-id-11 div.sk-estimator input.sk-toggleable__control:checked~label.sk-toggleable__label {background-color: #d4ebff;}#sk-container-id-11 div.sk-label input.sk-toggleable__control:checked~label.sk-toggleable__label {background-color: #d4ebff;}#sk-container-id-11 input.sk-hidden--visually {border: 0;clip: rect(1px 1px 1px 1px);clip: rect(1px, 1px, 1px, 1px);height: 1px;margin: -1px;overflow: hidden;padding: 0;position: absolute;width: 1px;}#sk-container-id-11 div.sk-estimator {font-family: monospace;background-color: #f0f8ff;border: 1px dotted black;border-radius: 0.25em;box-sizing: border-box;margin-bottom: 0.5em;}#sk-container-id-11 div.sk-estimator:hover {background-color: #d4ebff;}#sk-container-id-11 div.sk-parallel-item::after {content: \"\";width: 100%;border-bottom: 1px solid gray;flex-grow: 1;}#sk-container-id-11 div.sk-label:hover label.sk-toggleable__label {background-color: #d4ebff;}#sk-container-id-11 div.sk-serial::before {content: \"\";position: absolute;border-left: 1px solid gray;box-sizing: border-box;top: 0;bottom: 0;left: 50%;z-index: 0;}#sk-container-id-11 div.sk-serial {display: flex;flex-direction: column;align-items: center;background-color: white;padding-right: 0.2em;padding-left: 0.2em;position: relative;}#sk-container-id-11 div.sk-item {position: relative;z-index: 1;}#sk-container-id-11 div.sk-parallel {display: flex;align-items: stretch;justify-content: center;background-color: white;position: relative;}#sk-container-id-11 div.sk-item::before, #sk-container-id-11 div.sk-parallel-item::before {content: \"\";position: absolute;border-left: 1px solid gray;box-sizing: border-box;top: 0;bottom: 0;left: 50%;z-index: -1;}#sk-container-id-11 div.sk-parallel-item {display: flex;flex-direction: column;z-index: 1;position: relative;background-color: white;}#sk-container-id-11 div.sk-parallel-item:first-child::after {align-self: flex-end;width: 50%;}#sk-container-id-11 div.sk-parallel-item:last-child::after {align-self: flex-start;width: 50%;}#sk-container-id-11 div.sk-parallel-item:only-child::after {width: 0;}#sk-container-id-11 div.sk-dashed-wrapped {border: 1px dashed gray;margin: 0 0.4em 0.5em 0.4em;box-sizing: border-box;padding-bottom: 0.4em;background-color: white;}#sk-container-id-11 div.sk-label label {font-family: monospace;font-weight: bold;display: inline-block;line-height: 1.2em;}#sk-container-id-11 div.sk-label-container {text-align: center;}#sk-container-id-11 div.sk-container {/* jupyter's `normalize.less` sets `[hidden] { display: none; }` but bootstrap.min.css set `[hidden] { display: none !important; }` so we also need the `!important` here to be able to override the default hidden behavior on the sphinx rendered scikit-learn.org. See: https://github.com/scikit-learn/scikit-learn/issues/21755 */display: inline-block !important;position: relative;}#sk-container-id-11 div.sk-text-repr-fallback {display: none;}</style><div id=\"sk-container-id-11\" class=\"sk-top-container\"><div class=\"sk-text-repr-fallback\"><pre>RandomForestClassifier(max_depth=7, min_samples_leaf=3, random_state=123)</pre><b>In a Jupyter environment, please rerun this cell to show the HTML representation or trust the notebook. <br />On GitHub, the HTML representation is unable to render, please try loading this page with nbviewer.org.</b></div><div class=\"sk-container\" hidden><div class=\"sk-item\"><div class=\"sk-estimator sk-toggleable\"><input class=\"sk-toggleable__control sk-hidden--visually\" id=\"sk-estimator-id-11\" type=\"checkbox\" checked><label for=\"sk-estimator-id-11\" class=\"sk-toggleable__label sk-toggleable__label-arrow\">RandomForestClassifier</label><div class=\"sk-toggleable__content\"><pre>RandomForestClassifier(max_depth=7, min_samples_leaf=3, random_state=123)</pre></div></div></div></div></div>"
      ],
      "text/plain": [
       "RandomForestClassifier(max_depth=7, min_samples_leaf=3, random_state=123)"
      ]
     },
     "execution_count": 124,
     "metadata": {},
     "output_type": "execute_result"
    }
   ],
   "source": [
    "rf5.fit(X_train4, y_train4)"
   ]
  },
  {
   "cell_type": "code",
   "execution_count": 125,
   "id": "541d78ad-e066-4b96-bd40-b1e2dd64b7e5",
   "metadata": {},
   "outputs": [
    {
     "name": "stdout",
     "output_type": "stream",
     "text": [
      "[0.49379895 0.11985324 0.25117791 0.05290139 0.08226851]\n"
     ]
    }
   ],
   "source": [
    "print(rf5.feature_importances_)"
   ]
  },
  {
   "cell_type": "code",
   "execution_count": 126,
   "id": "b8225f17-2642-4891-89fd-28dc62d5d826",
   "metadata": {},
   "outputs": [],
   "source": [
    "y_pred = rf5.predict(X_train4)"
   ]
  },
  {
   "cell_type": "code",
   "execution_count": 127,
   "id": "bce248dd-d99d-4bd7-b245-c77f4e92ab70",
   "metadata": {
    "tags": []
   },
   "outputs": [],
   "source": [
    "y_pred_proba = rf5.predict_proba(X_train4)"
   ]
  },
  {
   "cell_type": "markdown",
   "id": "034148d3-6203-42ec-a4e8-54e90b4678ba",
   "metadata": {},
   "source": [
    "<b><h3>The Results"
   ]
  },
  {
   "cell_type": "code",
   "execution_count": 129,
   "id": "4378cd0d-1abb-4c1e-b182-b79223e430c7",
   "metadata": {
    "tags": []
   },
   "outputs": [
    {
     "name": "stdout",
     "output_type": "stream",
     "text": [
      "Accuracy of random forest classifier on Training set: 0.81\n",
      "Accuracy of random forest classifier on Validate set: 0.78\n",
      "Accuracy of random forest classifier on Test set: 0.79\n"
     ]
    }
   ],
   "source": [
    "print('Accuracy of random forest classifier on Training set: {:.2f}'\n",
    "     .format(rf5.score(X_train4, y_train4)))\n",
    "print('Accuracy of random forest classifier on Validate set: {:.2f}'\n",
    "     .format(rf5.score(X_validate4, y_validate4)))\n",
    "print('Accuracy of random forest classifier on Test set: {:.2f}'\n",
    "     .format(rf5.score(X_test4, y_test4)))"
   ]
  },
  {
   "cell_type": "code",
   "execution_count": null,
   "id": "a948a3b5-92a9-4310-9501-3156c74aedcc",
   "metadata": {},
   "outputs": [],
   "source": []
  }
 ],
 "metadata": {
  "kernelspec": {
   "display_name": "Python 3 (ipykernel)",
   "language": "python",
   "name": "python3"
  },
  "language_info": {
   "codemirror_mode": {
    "name": "ipython",
    "version": 3
   },
   "file_extension": ".py",
   "mimetype": "text/x-python",
   "name": "python",
   "nbconvert_exporter": "python",
   "pygments_lexer": "ipython3",
   "version": "3.11.4"
  }
 },
 "nbformat": 4,
 "nbformat_minor": 5
}
